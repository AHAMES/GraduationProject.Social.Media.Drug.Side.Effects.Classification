{
 "cells": [
  {
   "cell_type": "code",
   "execution_count": 2,
   "metadata": {},
   "outputs": [],
   "source": [
    "import numpy as np  \n",
    "import matplotlib.pyplot as plt  \n",
    "import pandas as pd  \n",
    "from apyori import apriori  "
   ]
  },
  {
   "cell_type": "raw",
   "metadata": {},
   "source": []
  },
  {
   "cell_type": "code",
   "execution_count": null,
   "metadata": {
    "slideshow": {
     "slide_type": "-"
    }
   },
   "outputs": [],
   "source": []
  },
  {
   "cell_type": "code",
   "execution_count": 52,
   "metadata": {},
   "outputs": [],
   "source": [
    "data = pd.read_excel('result.xlsx')\n",
    "from sklearn.impute import SimpleImputer\n",
    "#imp_mean = SimpleImputer(missing_values=np.nan, strategy='most_frequent')\n",
    "#data['Gender']=imp_mean.fit_transform(data['Gender'].values.reshape(-1, 1))\n",
    "#del data['DrugFamily']\n",
    "#data=vectorizeCount(data)"
   ]
  },
  {
   "cell_type": "code",
   "execution_count": 93,
   "metadata": {},
   "outputs": [
    {
     "data": {
      "text/plain": [
       "False"
      ]
     },
     "execution_count": 93,
     "metadata": {},
     "output_type": "execute_result"
    }
   ],
   "source": [
    "not ['Atrial Fibrillation ']"
   ]
  },
  {
   "cell_type": "code",
   "execution_count": 4,
   "metadata": {},
   "outputs": [
    {
     "data": {
      "text/html": [
       "<div>\n",
       "<style scoped>\n",
       "    .dataframe tbody tr th:only-of-type {\n",
       "        vertical-align: middle;\n",
       "    }\n",
       "\n",
       "    .dataframe tbody tr th {\n",
       "        vertical-align: top;\n",
       "    }\n",
       "\n",
       "    .dataframe thead th {\n",
       "        text-align: right;\n",
       "    }\n",
       "</style>\n",
       "<table border=\"1\" class=\"dataframe\">\n",
       "  <thead>\n",
       "    <tr style=\"text-align: right;\">\n",
       "      <th></th>\n",
       "      <th>DrugFamily</th>\n",
       "      <th>Drug</th>\n",
       "      <th>Gender</th>\n",
       "      <th>ADRs</th>\n",
       "      <th>Mentals</th>\n",
       "      <th>Dieases</th>\n",
       "    </tr>\n",
       "  </thead>\n",
       "  <tbody>\n",
       "    <tr>\n",
       "      <th>0</th>\n",
       "      <td>Calcium</td>\n",
       "      <td>Amlodipine</td>\n",
       "      <td>NaN</td>\n",
       "      <td>[]</td>\n",
       "      <td>[]</td>\n",
       "      <td>[\"Hypertensive disease \", \"MUNGAN SYNDROME \"]</td>\n",
       "    </tr>\n",
       "    <tr>\n",
       "      <th>1</th>\n",
       "      <td>Calcium</td>\n",
       "      <td>Amlodipine</td>\n",
       "      <td>Female</td>\n",
       "      <td>[\"exercise induced\", \"Snoring\", \"Clouded consc...</td>\n",
       "      <td>[\"Somnolence\", \"Mental Depression \", \"Confusion\"]</td>\n",
       "      <td>[\"Hypertensive disease \", \"MUNGAN SYNDROME \", ...</td>\n",
       "    </tr>\n",
       "    <tr>\n",
       "      <th>2</th>\n",
       "      <td>Calcium</td>\n",
       "      <td>Amlodipine</td>\n",
       "      <td>NaN</td>\n",
       "      <td>[]</td>\n",
       "      <td>[]</td>\n",
       "      <td>[\"Hypertensive disease \"]</td>\n",
       "    </tr>\n",
       "    <tr>\n",
       "      <th>3</th>\n",
       "      <td>Calcium</td>\n",
       "      <td>Amlodipine</td>\n",
       "      <td>Male</td>\n",
       "      <td>[]</td>\n",
       "      <td>[]</td>\n",
       "      <td>[\"Hypertensive disease \"]</td>\n",
       "    </tr>\n",
       "    <tr>\n",
       "      <th>4</th>\n",
       "      <td>Calcium</td>\n",
       "      <td>Amlodipine</td>\n",
       "      <td>Male</td>\n",
       "      <td>[]</td>\n",
       "      <td>[]</td>\n",
       "      <td>[]</td>\n",
       "    </tr>\n",
       "  </tbody>\n",
       "</table>\n",
       "</div>"
      ],
      "text/plain": [
       "  DrugFamily        Drug  Gender  \\\n",
       "0    Calcium  Amlodipine     NaN   \n",
       "1    Calcium  Amlodipine  Female   \n",
       "2    Calcium  Amlodipine     NaN   \n",
       "3    Calcium  Amlodipine    Male   \n",
       "4    Calcium  Amlodipine    Male   \n",
       "\n",
       "                                                ADRs  \\\n",
       "0                                                 []   \n",
       "1  [\"exercise induced\", \"Snoring\", \"Clouded consc...   \n",
       "2                                                 []   \n",
       "3                                                 []   \n",
       "4                                                 []   \n",
       "\n",
       "                                             Mentals  \\\n",
       "0                                                 []   \n",
       "1  [\"Somnolence\", \"Mental Depression \", \"Confusion\"]   \n",
       "2                                                 []   \n",
       "3                                                 []   \n",
       "4                                                 []   \n",
       "\n",
       "                                             Dieases  \n",
       "0      [\"Hypertensive disease \", \"MUNGAN SYNDROME \"]  \n",
       "1  [\"Hypertensive disease \", \"MUNGAN SYNDROME \", ...  \n",
       "2                          [\"Hypertensive disease \"]  \n",
       "3                          [\"Hypertensive disease \"]  \n",
       "4                                                 []  "
      ]
     },
     "execution_count": 4,
     "metadata": {},
     "output_type": "execute_result"
    }
   ],
   "source": [
    "data.head() "
   ]
  },
  {
   "cell_type": "code",
   "execution_count": 28,
   "metadata": {},
   "outputs": [
    {
     "data": {
      "text/plain": [
       "False"
      ]
     },
     "execution_count": 28,
     "metadata": {},
     "output_type": "execute_result"
    }
   ],
   "source": [
    "pd.isnull(data.iloc[1]['Gender'])"
   ]
  },
  {
   "cell_type": "code",
   "execution_count": 5,
   "metadata": {},
   "outputs": [
    {
     "data": {
      "text/plain": [
       "Index(['DrugFamily', 'Drug', 'Gender', 'ADRs', 'Mentals', 'Dieases'], dtype='object')"
      ]
     },
     "execution_count": 5,
     "metadata": {},
     "output_type": "execute_result"
    }
   ],
   "source": [
    "data.columns"
   ]
  },
  {
   "cell_type": "code",
   "execution_count": 73,
   "metadata": {},
   "outputs": [
    {
     "name": "stdout",
     "output_type": "stream",
     "text": [
      "['exercise induced', 'Snoring', 'Clouded consciousness', 'Somnolence', 'Mental Depression ', 'Confusion', 'Hypertensive disease ', 'MUNGAN SYNDROME ', 'Thyroiditis ', 'Diabetes', 'Hemorrhoids ', 'Calcium', 'Amlodipine', nan]\n"
     ]
    }
   ],
   "source": []
  },
  {
   "cell_type": "code",
   "execution_count": 53,
   "metadata": {},
   "outputs": [],
   "source": [
    "import ast\n",
    "records = []  \n",
    "for i in range(0,len(data)):\n",
    "    x = []\n",
    "    x=ast.literal_eval(data.iloc[i]['ADRs'])\n",
    "    x.extend(ast.literal_eval(data.iloc[i]['Mentals']))\n",
    "    x.extend(ast.literal_eval(data.iloc[i]['Dieases']))\n",
    "    x.append(data.iloc[i]['DrugFamily'])\n",
    "    x.append(data.iloc[i]['Drug'])\n",
    "    if not pd.isnull(data.iloc[i]['Gender']):\n",
    "        x.append(data.iloc[i]['Gender'])\n",
    "    records.append(x)"
   ]
  },
  {
   "cell_type": "code",
   "execution_count": 41,
   "metadata": {},
   "outputs": [
    {
     "data": {
      "text/plain": [
       "'nan'"
      ]
     },
     "execution_count": 41,
     "metadata": {},
     "output_type": "execute_result"
    }
   ],
   "source": [
    "str(np.nan)"
   ]
  },
  {
   "cell_type": "code",
   "execution_count": 42,
   "metadata": {},
   "outputs": [
    {
     "data": {
      "text/plain": [
       "'DrugFamily'"
      ]
     },
     "execution_count": 42,
     "metadata": {},
     "output_type": "execute_result"
    }
   ],
   "source": [
    "data.columns[0]"
   ]
  },
  {
   "cell_type": "code",
   "execution_count": 54,
   "metadata": {},
   "outputs": [],
   "source": [
    "association_rules = apriori(records,min_support=0.02,min_lift=1.5, min_confidence=0.4)  \n",
    "association_results = list(association_rules)  "
   ]
  },
  {
   "cell_type": "code",
   "execution_count": 55,
   "metadata": {
    "scrolled": true
   },
   "outputs": [
    {
     "name": "stdout",
     "output_type": "stream",
     "text": [
      "149\n"
     ]
    }
   ],
   "source": [
    "print(len(association_results))  "
   ]
  },
  {
   "cell_type": "markdown",
   "metadata": {},
   "source": [
    "### print(association_results[0])  "
   ]
  },
  {
   "cell_type": "code",
   "execution_count": 56,
   "metadata": {},
   "outputs": [
    {
     "name": "stdout",
     "output_type": "stream",
     "text": [
      "1\n",
      "Rule: ['Diabetes'] -> ['Angiotensin']\n",
      "Support: 0.028259473346178548\n",
      "Confidence: 0.419047619047619\n",
      "Lift: 1.5244325767690252\n",
      "=====================================\n",
      "2\n",
      "Rule: ['Mental Depression '] -> ['Anxiety']\n",
      "Support: 0.0224791265253693\n",
      "Confidence: 0.4117647058823529\n",
      "Lift: 2.6602391994142054\n",
      "=====================================\n",
      "3\n",
      "Rule: ['Atrial Premature Complexes '] -> ['Atenolol']\n",
      "Support: 0.029543994861913937\n",
      "Confidence: 0.6865671641791045\n",
      "Lift: 1.724169475204622\n",
      "=====================================\n",
      "4\n",
      "Rule: ['Pvc'] -> ['Atenolol']\n",
      "Support: 0.06872190109184328\n",
      "Confidence: 0.656441717791411\n",
      "Lift: 1.6485157332277856\n",
      "=====================================\n",
      "5\n",
      "Rule: ['Atrial Premature Complexes '] -> ['Beta']\n",
      "Support: 0.03147077713551702\n",
      "Confidence: 0.7313432835820896\n",
      "Lift: 1.5408680548542806\n",
      "=====================================\n",
      "6\n",
      "Rule: ['Atrial Premature Complexes '] -> ['Pvc']\n",
      "Support: 0.028259473346178548\n",
      "Confidence: 0.6567164179104478\n",
      "Lift: 6.273051918322498\n",
      "=====================================\n",
      "7\n",
      "Rule: ['Liver Cirrhosis '] -> ['Beta']\n",
      "Support: 0.025048169556840076\n",
      "Confidence: 0.8863636363636364\n",
      "Lift: 1.8674806249231146\n",
      "=====================================\n",
      "8\n",
      "Rule: ['Brachial Amyotrophic Diplegia '] -> ['Pain']\n",
      "Support: 0.04303147077713552\n",
      "Confidence: 0.42138364779874216\n",
      "Lift: 1.6866178396468934\n",
      "=====================================\n",
      "9\n",
      "Rule: ['Cerebrovascular accident '] -> ['Hypertensive disease ']\n",
      "Support: 0.03789338471419396\n",
      "Confidence: 0.7468354430379747\n",
      "Lift: 1.6083302694469246\n",
      "=====================================\n",
      "10\n",
      "Rule: ['Cerebrovascular accident '] -> ['MICROCEPHALY , EPILEPSY , AND DIABETES SYNDROME ']\n",
      "Support: 0.02697495183044316\n",
      "Confidence: 0.5316455696202531\n",
      "Lift: 2.4783597362237546\n",
      "=====================================\n",
      "11\n",
      "Rule: ['Cerebrovascular accident '] -> ['MUNGAN SYNDROME ']\n",
      "Support: 0.026332691072575465\n",
      "Confidence: 0.5189873417721519\n",
      "Lift: 2.3220209515495416\n",
      "=====================================\n",
      "12\n",
      "Rule: ['Cerebrovascular accident '] -> ['Pain']\n",
      "Support: 0.021836865767501604\n",
      "Confidence: 0.430379746835443\n",
      "Lift: 1.7226253620123\n",
      "=====================================\n",
      "13\n",
      "Rule: ['Common Cold '] -> ['Upper Respiratory Infections ']\n",
      "Support: 0.0449582530507386\n",
      "Confidence: 0.9722222222222222\n",
      "Lift: 21.625\n",
      "=====================================\n",
      "14\n",
      "Rule: ['Congestive heart failure '] -> ['Hypertensive disease ']\n",
      "Support: 0.020552344251766216\n",
      "Confidence: 0.7804878048780487\n",
      "Lift: 1.6808015383058392\n",
      "=====================================\n",
      "15\n",
      "Rule: ['Diabetes'] -> ['Lisinopril']\n",
      "Support: 0.028259473346178548\n",
      "Confidence: 0.419047619047619\n",
      "Lift: 1.5244325767690252\n",
      "=====================================\n",
      "16\n",
      "Rule: ['Headache'] -> ['Pain']\n",
      "Support: 0.03917790622992935\n",
      "Confidence: 0.5213675213675213\n",
      "Lift: 2.0868103618746288\n",
      "=====================================\n",
      "17\n",
      "Rule: ['Liver Cirrhosis '] -> ['Nadolol']\n",
      "Support: 0.023763648041104687\n",
      "Confidence: 0.8409090909090909\n",
      "Lift: 11.002482811306342\n",
      "=====================================\n",
      "18\n",
      "Rule: ['Malaise'] -> ['Pain']\n",
      "Support: 0.028901734104046242\n",
      "Confidence: 0.5487804878048781\n",
      "Lift: 2.196532697974795\n",
      "=====================================\n",
      "19\n",
      "Rule: ['Numbness'] -> ['Pain']\n",
      "Support: 0.0224791265253693\n",
      "Confidence: 0.625\n",
      "Lift: 2.5016066838046274\n",
      "=====================================\n",
      "20\n",
      "Rule: ['Weakness'] -> ['Pain']\n",
      "Support: 0.025048169556840076\n",
      "Confidence: 0.4382022471910112\n",
      "Lift: 1.7539354726899856\n",
      "=====================================\n",
      "21\n",
      "Rule: ['Pain', 'Amlodipine'] -> ['Hypertensive disease ']\n",
      "Support: 0.025048169556840076\n",
      "Confidence: 0.7222222222222223\n",
      "Lift: 1.5553250345781469\n",
      "=====================================\n",
      "22\n",
      "Rule: ['MICROCEPHALY , EPILEPSY , AND DIABETES SYNDROME ', 'Male'] -> ['Angiotensin']\n",
      "Support: 0.036608863198458574\n",
      "Confidence: 0.42857142857142855\n",
      "Lift: 1.559078771695594\n",
      "=====================================\n",
      "23\n",
      "Rule: ['Atrial Premature Complexes ', 'Atenolol'] -> ['Pvc']\n",
      "Support: 0.021836865767501604\n",
      "Confidence: 0.7391304347826086\n",
      "Lift: 7.06028274206455\n",
      "=====================================\n",
      "24\n",
      "Rule: ['Common Cold ', 'Atenolol'] -> ['Upper Respiratory Infections ']\n",
      "Support: 0.025048169556840076\n",
      "Confidence: 0.975\n",
      "Lift: 21.686785714285715\n",
      "=====================================\n",
      "25\n",
      "Rule: ['Dyspnea', 'Atenolol'] -> ['Female']\n",
      "Support: 0.023121387283236993\n",
      "Confidence: 0.5454545454545454\n",
      "Lift: 1.5357553838566496\n",
      "=====================================\n",
      "26\n",
      "Rule: ['Pvc', 'Female'] -> ['Atenolol']\n",
      "Support: 0.02119460500963391\n",
      "Confidence: 0.717391304347826\n",
      "Lift: 1.8015778401122018\n",
      "=====================================\n",
      "27\n",
      "Rule: ['Beta', 'Atrial Premature Complexes '] -> ['Pvc']\n",
      "Support: 0.0224791265253693\n",
      "Confidence: 0.7142857142857143\n",
      "Lift: 6.82296231375986\n",
      "=====================================\n",
      "28\n",
      "Rule: ['Beta', 'Brachial Amyotrophic Diplegia '] -> ['Pain']\n",
      "Support: 0.020552344251766216\n",
      "Confidence: 0.40506329113924044\n",
      "Lift: 1.6212944583645177\n",
      "=====================================\n",
      "29\n",
      "Rule: ['Beta', 'Common Cold '] -> ['Upper Respiratory Infections ']\n",
      "Support: 0.02697495183044316\n",
      "Confidence: 0.9545454545454546\n",
      "Lift: 21.231818181818184\n",
      "=====================================\n",
      "30\n",
      "Rule: ['Beta', 'Dyspnea'] -> ['Female']\n",
      "Support: 0.027617212588310854\n",
      "Confidence: 0.5512820512820513\n",
      "Lift: 1.5521630268465714\n",
      "=====================================\n",
      "31\n",
      "Rule: ['Pvc', 'Female'] -> ['Beta']\n",
      "Support: 0.021836865767501604\n",
      "Confidence: 0.7391304347826086\n",
      "Lift: 1.5572748132023297\n",
      "=====================================\n",
      "32\n",
      "Rule: ['Beta', 'Liver Cirrhosis '] -> ['Nadolol']\n",
      "Support: 0.023763648041104687\n",
      "Confidence: 0.9487179487179487\n",
      "Lift: 12.41305753070459\n",
      "=====================================\n",
      "33\n",
      "Rule: ['Brachial Amyotrophic Diplegia ', 'Hypertensive disease '] -> ['Pain']\n",
      "Support: 0.023763648041104687\n",
      "Confidence: 0.5441176470588235\n",
      "Lift: 2.17786934825344\n",
      "=====================================\n",
      "34\n",
      "Rule: ['Cerebrovascular accident ', 'Hypertensive disease '] -> ['MUNGAN SYNDROME ']\n",
      "Support: 0.021836865767501604\n",
      "Confidence: 0.5762711864406779\n",
      "Lift: 2.578316773816481\n",
      "=====================================\n",
      "35\n",
      "Rule: ['Hypertensive disease ', 'Common Cold '] -> ['Upper Respiratory Infections ']\n",
      "Support: 0.023121387283236993\n",
      "Confidence: 0.9729729729729729\n",
      "Lift: 21.64169884169884\n",
      "=====================================\n",
      "36\n",
      "Rule: ['Diabetes', 'Female'] -> ['Hypertensive disease ']\n",
      "Support: 0.020552344251766216\n",
      "Confidence: 0.711111111111111\n",
      "Lift: 1.531396957123098\n",
      "=====================================\n",
      "37\n",
      "Rule: ['Mental Suffering', 'Female'] -> ['Pain']\n",
      "Support: 0.020552344251766216\n",
      "Confidence: 0.4923076923076923\n",
      "Lift: 1.9704963417045678\n",
      "=====================================\n",
      "38\n",
      "Rule: ['Headache', 'Hypertensive disease '] -> ['Pain']\n",
      "Support: 0.02119460500963391\n",
      "Confidence: 0.5076923076923077\n",
      "Lift: 2.0320743523828355\n",
      "=====================================\n",
      "39\n",
      "Rule: ['MUNGAN SYNDROME ', 'Mental Suffering'] -> ['Hypertensive disease ']\n",
      "Support: 0.020552344251766216\n",
      "Confidence: 0.8421052631578947\n",
      "Lift: 1.8134963965931425\n",
      "=====================================\n",
      "40\n",
      "Rule: ['Mental Suffering', 'Hypertensive disease '] -> ['Pain']\n",
      "Support: 0.02569043031470777\n",
      "Confidence: 0.43956043956043955\n",
      "Lift: 1.7593717336647927\n",
      "=====================================\n",
      "41\n",
      "Rule: ['MICROCEPHALY , EPILEPSY , AND DIABETES SYNDROME ', 'Male'] -> ['Lisinopril']\n",
      "Support: 0.036608863198458574\n",
      "Confidence: 0.42857142857142855\n",
      "Lift: 1.559078771695594\n",
      "=====================================\n",
      "42\n",
      "Rule: ['Calcium', 'Pain', 'Amlodipine'] -> ['Hypertensive disease ']\n",
      "Support: 0.025048169556840076\n",
      "Confidence: 0.7222222222222223\n",
      "Lift: 1.5553250345781469\n",
      "=====================================\n",
      "43\n",
      "Rule: ['Hypertensive disease ', 'MICROCEPHALY , EPILEPSY , AND DIABETES SYNDROME ', 'Angiotensin'] -> ['Male']\n",
      "Support: 0.023121387283236993\n",
      "Confidence: 0.5714285714285714\n",
      "Lift: 1.5313498893533317\n",
      "=====================================\n",
      "44\n",
      "Rule: ['Beta', 'Atrial Premature Complexes ', 'Atenolol'] -> ['Pvc']\n",
      "Support: 0.021836865767501604\n",
      "Confidence: 0.7391304347826086\n",
      "Lift: 7.06028274206455\n",
      "=====================================\n",
      "45\n",
      "Rule: ['Beta', 'Common Cold ', 'Atenolol'] -> ['Upper Respiratory Infections ']\n",
      "Support: 0.025048169556840076\n",
      "Confidence: 0.975\n",
      "Lift: 21.686785714285715\n",
      "=====================================\n",
      "46\n",
      "Rule: ['Beta', 'Dyspnea', 'Atenolol'] -> ['Female']\n",
      "Support: 0.023121387283236993\n",
      "Confidence: 0.5454545454545454\n",
      "Lift: 1.5357553838566496\n",
      "=====================================\n",
      "47\n",
      "Rule: ['MICROCEPHALY , EPILEPSY , AND DIABETES SYNDROME ', 'Lisinopril', 'Hypertensive disease '] -> ['Male']\n",
      "Support: 0.023121387283236993\n",
      "Confidence: 0.5714285714285714\n",
      "Lift: 1.5313498893533317\n",
      "=====================================\n",
      "48\n",
      "Rule: ['Hypertensive disease ', 'MICROCEPHALY , EPILEPSY , AND DIABETES SYNDROME ', 'Lisinopril', 'Angiotensin'] -> ['Male']\n",
      "Support: 0.023121387283236993\n",
      "Confidence: 0.5714285714285714\n",
      "Lift: 1.5313498893533317\n",
      "=====================================\n"
     ]
    }
   ],
   "source": [
    "count=1\n",
    "x=\"\"\n",
    "for item in association_results:\n",
    "    \n",
    "    # first index of the inner list\n",
    "    # Contains base item and add item\n",
    "    pair = item[0] \n",
    "    items = [x for x in pair]\n",
    "    \n",
    "    if len(list(item.ordered_statistics[0].items_base))==0 or str(item[2][0][2])=='1.0':\n",
    "        continue\n",
    "    x+=str(count)+\"\\n\"\n",
    "    count+=1\n",
    "    x+=(\"Rule: \" + str(list(item.ordered_statistics[0].items_base)) + \" -> \" + str(list(item.ordered_statistics[0].items_add)))+\"\\n\"\n",
    "    #second index of the inner list\n",
    "    x+=(\"Support: \" + str(item[1])+\"\\n\")\n",
    "\n",
    "    #third index of the list located at 0th\n",
    "    #of the third index of the inner list\n",
    "\n",
    "    x+=(\"Confidence: \" + str(item[2][0][2])+\"\\n\")\n",
    "    x+=(\"Lift: \" + str(item[2][0][3])+\"\\n\")\n",
    "    x+=(\"=====================================\")\n",
    "f=open('result.txt',w)\n",
    "f.write(x)\n",
    "f.close()"
   ]
  },
  {
   "cell_type": "code",
   "execution_count": 54,
   "metadata": {},
   "outputs": [
    {
     "data": {
      "text/plain": [
       "1557"
      ]
     },
     "execution_count": 54,
     "metadata": {},
     "output_type": "execute_result"
    }
   ],
   "source": [
    "len(data)"
   ]
  },
  {
   "cell_type": "code",
   "execution_count": 31,
   "metadata": {},
   "outputs": [
    {
     "data": {
      "text/plain": [
       "155700.0"
      ]
     },
     "execution_count": 31,
     "metadata": {},
     "output_type": "execute_result"
    }
   ],
   "source": [
    "len(data)*(1/100.0))"
   ]
  },
  {
   "cell_type": "code",
   "execution_count": null,
   "metadata": {},
   "outputs": [],
   "source": []
  }
 ],
 "metadata": {
  "kernelspec": {
   "display_name": "Python 3",
   "language": "python",
   "name": "python3"
  },
  "language_info": {
   "codemirror_mode": {
    "name": "ipython",
    "version": 3
   },
   "file_extension": ".py",
   "mimetype": "text/x-python",
   "name": "python",
   "nbconvert_exporter": "python",
   "pygments_lexer": "ipython3",
   "version": "3.6.7"
  },
  "varInspector": {
   "cols": {
    "lenName": 16,
    "lenType": 16,
    "lenVar": 40
   },
   "kernels_config": {
    "python": {
     "delete_cmd_postfix": "",
     "delete_cmd_prefix": "del ",
     "library": "var_list.py",
     "varRefreshCmd": "print(var_dic_list())"
    },
    "r": {
     "delete_cmd_postfix": ") ",
     "delete_cmd_prefix": "rm(",
     "library": "var_list.r",
     "varRefreshCmd": "cat(var_dic_list()) "
    }
   },
   "position": {
    "height": "215px",
    "left": "647px",
    "right": "20px",
    "top": "0px",
    "width": "514px"
   },
   "types_to_exclude": [
    "module",
    "function",
    "builtin_function_or_method",
    "instance",
    "_Feature"
   ],
   "window_display": true
  }
 },
 "nbformat": 4,
 "nbformat_minor": 2
}
