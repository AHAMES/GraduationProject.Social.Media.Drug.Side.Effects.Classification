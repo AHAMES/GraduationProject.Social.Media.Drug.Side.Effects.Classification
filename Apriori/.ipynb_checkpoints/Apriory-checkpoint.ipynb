{
 "cells": [
  {
   "cell_type": "code",
   "execution_count": 30,
   "metadata": {},
   "outputs": [],
   "source": [
    "import numpy as np  \n",
    "import matplotlib.pyplot as plt  \n",
    "import pandas as pd  \n",
    "from apyori import apriori  "
   ]
  },
  {
   "cell_type": "raw",
   "metadata": {},
   "source": []
  },
  {
   "cell_type": "code",
   "execution_count": null,
   "metadata": {
    "slideshow": {
     "slide_type": "-"
    }
   },
   "outputs": [],
   "source": []
  },
  {
   "cell_type": "code",
   "execution_count": 31,
   "metadata": {},
   "outputs": [],
   "source": [
    "data = pd.read_excel('result.xlsx')\n",
    "data1 = pd.read_excel('askapatient.xlsx')\n",
    "from sklearn.impute import SimpleImputer\n",
    "#imp_mean = SimpleImputer(missing_values=np.nan, strategy='most_frequent')\n",
    "#data['Gender']=imp_mean.fit_transform(data['Gender'].values.reshape(-1, 1))\n",
    "#del data['DrugFamily']\n",
    "#data=vectorizeCount(data)"
   ]
  },
  {
   "cell_type": "code",
   "execution_count": 32,
   "metadata": {},
   "outputs": [
    {
     "data": {
      "text/plain": [
       "False"
      ]
     },
     "execution_count": 32,
     "metadata": {},
     "output_type": "execute_result"
    }
   ],
   "source": [
    "not ['Atrial Fibrillation ']"
   ]
  },
  {
   "cell_type": "code",
   "execution_count": 33,
   "metadata": {},
   "outputs": [
    {
     "data": {
      "text/html": [
       "<div>\n",
       "<style scoped>\n",
       "    .dataframe tbody tr th:only-of-type {\n",
       "        vertical-align: middle;\n",
       "    }\n",
       "\n",
       "    .dataframe tbody tr th {\n",
       "        vertical-align: top;\n",
       "    }\n",
       "\n",
       "    .dataframe thead th {\n",
       "        text-align: right;\n",
       "    }\n",
       "</style>\n",
       "<table border=\"1\" class=\"dataframe\">\n",
       "  <thead>\n",
       "    <tr style=\"text-align: right;\">\n",
       "      <th></th>\n",
       "      <th>DrugFamily</th>\n",
       "      <th>Drug</th>\n",
       "      <th>Gender</th>\n",
       "      <th>ADRs</th>\n",
       "      <th>Mentals</th>\n",
       "      <th>Dieases</th>\n",
       "    </tr>\n",
       "  </thead>\n",
       "  <tbody>\n",
       "    <tr>\n",
       "      <th>0</th>\n",
       "      <td>Calcium</td>\n",
       "      <td>Amlodipine</td>\n",
       "      <td>NaN</td>\n",
       "      <td>[]</td>\n",
       "      <td>[]</td>\n",
       "      <td>[\"Hypertensive disease \", \"MUNGAN SYNDROME \"]</td>\n",
       "    </tr>\n",
       "    <tr>\n",
       "      <th>1</th>\n",
       "      <td>Calcium</td>\n",
       "      <td>Amlodipine</td>\n",
       "      <td>Female</td>\n",
       "      <td>[\"exercise induced\", \"Snoring\", \"Clouded consc...</td>\n",
       "      <td>[\"Somnolence\", \"Mental Depression \", \"Confusion\"]</td>\n",
       "      <td>[\"Hypertensive disease \", \"MUNGAN SYNDROME \", ...</td>\n",
       "    </tr>\n",
       "    <tr>\n",
       "      <th>2</th>\n",
       "      <td>Calcium</td>\n",
       "      <td>Amlodipine</td>\n",
       "      <td>NaN</td>\n",
       "      <td>[]</td>\n",
       "      <td>[]</td>\n",
       "      <td>[\"Hypertensive disease \"]</td>\n",
       "    </tr>\n",
       "    <tr>\n",
       "      <th>3</th>\n",
       "      <td>Calcium</td>\n",
       "      <td>Amlodipine</td>\n",
       "      <td>Male</td>\n",
       "      <td>[]</td>\n",
       "      <td>[]</td>\n",
       "      <td>[\"Hypertensive disease \"]</td>\n",
       "    </tr>\n",
       "    <tr>\n",
       "      <th>4</th>\n",
       "      <td>Calcium</td>\n",
       "      <td>Amlodipine</td>\n",
       "      <td>Male</td>\n",
       "      <td>[]</td>\n",
       "      <td>[]</td>\n",
       "      <td>[]</td>\n",
       "    </tr>\n",
       "  </tbody>\n",
       "</table>\n",
       "</div>"
      ],
      "text/plain": [
       "  DrugFamily        Drug  Gender  \\\n",
       "0    Calcium  Amlodipine     NaN   \n",
       "1    Calcium  Amlodipine  Female   \n",
       "2    Calcium  Amlodipine     NaN   \n",
       "3    Calcium  Amlodipine    Male   \n",
       "4    Calcium  Amlodipine    Male   \n",
       "\n",
       "                                                ADRs  \\\n",
       "0                                                 []   \n",
       "1  [\"exercise induced\", \"Snoring\", \"Clouded consc...   \n",
       "2                                                 []   \n",
       "3                                                 []   \n",
       "4                                                 []   \n",
       "\n",
       "                                             Mentals  \\\n",
       "0                                                 []   \n",
       "1  [\"Somnolence\", \"Mental Depression \", \"Confusion\"]   \n",
       "2                                                 []   \n",
       "3                                                 []   \n",
       "4                                                 []   \n",
       "\n",
       "                                             Dieases  \n",
       "0      [\"Hypertensive disease \", \"MUNGAN SYNDROME \"]  \n",
       "1  [\"Hypertensive disease \", \"MUNGAN SYNDROME \", ...  \n",
       "2                          [\"Hypertensive disease \"]  \n",
       "3                          [\"Hypertensive disease \"]  \n",
       "4                                                 []  "
      ]
     },
     "execution_count": 33,
     "metadata": {},
     "output_type": "execute_result"
    }
   ],
   "source": [
    "data.head() "
   ]
  },
  {
   "cell_type": "code",
   "execution_count": 34,
   "metadata": {},
   "outputs": [
    {
     "data": {
      "text/plain": [
       "False"
      ]
     },
     "execution_count": 34,
     "metadata": {},
     "output_type": "execute_result"
    }
   ],
   "source": [
    "pd.isnull(data.iloc[1]['Gender'])"
   ]
  },
  {
   "cell_type": "code",
   "execution_count": 35,
   "metadata": {},
   "outputs": [
    {
     "data": {
      "text/plain": [
       "Index(['DrugFamily', 'Drug', 'Gender', 'ADRs', 'Mentals', 'Dieases'], dtype='object')"
      ]
     },
     "execution_count": 35,
     "metadata": {},
     "output_type": "execute_result"
    }
   ],
   "source": [
    "data.columns"
   ]
  },
  {
   "cell_type": "code",
   "execution_count": 48,
   "metadata": {},
   "outputs": [],
   "source": [
    "def attach(data):\n",
    "    import ast\n",
    "    records = []  \n",
    "    for i in range(0,len(data)):\n",
    "        x = []\n",
    "        x=ast.literal_eval(data.iloc[i]['ADRs'])\n",
    "        x.extend(ast.literal_eval(data.iloc[i]['Mentals']))\n",
    "        x.extend(ast.literal_eval(data.iloc[i]['Dieases']))\n",
    "        x.append(data.iloc[i]['DrugFamily'])\n",
    "        x.append(data.iloc[i]['Drug'])\n",
    "        if not pd.isnull(data.iloc[i]['Gender']):\n",
    "            x.append(data.iloc[i]['Gender'])\n",
    "        records.append(x)\n",
    "    return records"
   ]
  },
  {
   "cell_type": "code",
   "execution_count": 69,
   "metadata": {},
   "outputs": [],
   "source": [
    "def printres(association_results,name):\n",
    "    count=1\n",
    "    x=\"\"\n",
    "    for item in association_results:\n",
    "        \n",
    "        # first index of the inner list\n",
    "        # Contains base item and add item\n",
    "        pair = item[0] \n",
    "        items = [x for x in pair]\n",
    "\n",
    "        if len(list(item.ordered_statistics[0].items_base))==0 or str(item[2][0][2])=='1.0':\n",
    "            continue\n",
    "        #x+=str(count)+\"\\n\"\n",
    "        count+=1\n",
    "        x+=(\"Rule: \" + str(list(item.ordered_statistics[0].items_base)) + \" -> \" + str(list(item.ordered_statistics[0].items_add)))+\"\\n\"\n",
    "        #second index of the inner list\n",
    "        x+=(\"Support: \" + str(item[1])+\"\\n\")\n",
    "\n",
    "        #third index of the list located at 0th\n",
    "        #of the third index of the inner list\n",
    "\n",
    "        x+=(\"Confidence: \" + str(item[2][0][2])+\"\\n\")\n",
    "        x+=(\"Lift: \" + str(item[2][0][3])+\"\\n\")\n",
    "        x+=(\"=====================================\\n\")\n",
    "    f=open(name+'.txt','w')\n",
    "    #f=open('ask.txt','w')\n",
    "    f.write(x)\n",
    "    f.close()\n",
    "    \n",
    "    print(str(count))"
   ]
  },
  {
   "cell_type": "code",
   "execution_count": 70,
   "metadata": {},
   "outputs": [],
   "source": [
    "record1=attach(data)\n",
    "record2=attach(data1)"
   ]
  },
  {
   "cell_type": "code",
   "execution_count": 71,
   "metadata": {},
   "outputs": [
    {
     "data": {
      "text/plain": [
       "'nan'"
      ]
     },
     "execution_count": 71,
     "metadata": {},
     "output_type": "execute_result"
    }
   ],
   "source": [
    "str(np.nan)"
   ]
  },
  {
   "cell_type": "code",
   "execution_count": 72,
   "metadata": {},
   "outputs": [
    {
     "data": {
      "text/plain": [
       "'DrugFamily'"
      ]
     },
     "execution_count": 72,
     "metadata": {},
     "output_type": "execute_result"
    }
   ],
   "source": [
    "data.columns[0]"
   ]
  },
  {
   "cell_type": "code",
   "execution_count": 111,
   "metadata": {},
   "outputs": [],
   "source": [
    "association_rules1 = apriori(record1,min_support=0.025,min_lift=1.5, min_confidence=0.50)  \n",
    "association_results1 = list(association_rules1)  \n",
    "\n",
    "association_rules2 = apriori(record2,min_support=0.025,min_lift=1.5, min_confidence=0.50)  \n",
    "association_results2 = list(association_rules2)  "
   ]
  },
  {
   "cell_type": "code",
   "execution_count": 112,
   "metadata": {
    "scrolled": true
   },
   "outputs": [
    {
     "name": "stdout",
     "output_type": "stream",
     "text": [
      "91\n",
      "33\n",
      "19\n",
      "22\n"
     ]
    }
   ],
   "source": [
    "print(len(association_results1))  \n",
    "print(len(association_results2))  \n",
    "printres(association_results1,'MedHelpResult')  \n",
    "printres(association_results2,'askResult')"
   ]
  },
  {
   "cell_type": "code",
   "execution_count": null,
   "metadata": {},
   "outputs": [],
   "source": []
  },
  {
   "cell_type": "markdown",
   "metadata": {},
   "source": [
    "### print(association_results[0])  "
   ]
  },
  {
   "cell_type": "code",
   "execution_count": 29,
   "metadata": {},
   "outputs": [],
   "source": []
  },
  {
   "cell_type": "code",
   "execution_count": 54,
   "metadata": {},
   "outputs": [
    {
     "data": {
      "text/plain": [
       "1557"
      ]
     },
     "execution_count": 54,
     "metadata": {},
     "output_type": "execute_result"
    }
   ],
   "source": [
    "len(data)"
   ]
  },
  {
   "cell_type": "code",
   "execution_count": 31,
   "metadata": {},
   "outputs": [
    {
     "data": {
      "text/plain": [
       "155700.0"
      ]
     },
     "execution_count": 31,
     "metadata": {},
     "output_type": "execute_result"
    }
   ],
   "source": [
    "len(data)*(1/100.0))"
   ]
  },
  {
   "cell_type": "code",
   "execution_count": null,
   "metadata": {},
   "outputs": [],
   "source": []
  }
 ],
 "metadata": {
  "kernelspec": {
   "display_name": "Python 3",
   "language": "python",
   "name": "python3"
  },
  "language_info": {
   "codemirror_mode": {
    "name": "ipython",
    "version": 3
   },
   "file_extension": ".py",
   "mimetype": "text/x-python",
   "name": "python",
   "nbconvert_exporter": "python",
   "pygments_lexer": "ipython3",
   "version": "3.6.7"
  },
  "varInspector": {
   "cols": {
    "lenName": 16,
    "lenType": 16,
    "lenVar": 40
   },
   "kernels_config": {
    "python": {
     "delete_cmd_postfix": "",
     "delete_cmd_prefix": "del ",
     "library": "var_list.py",
     "varRefreshCmd": "print(var_dic_list())"
    },
    "r": {
     "delete_cmd_postfix": ") ",
     "delete_cmd_prefix": "rm(",
     "library": "var_list.r",
     "varRefreshCmd": "cat(var_dic_list()) "
    }
   },
   "position": {
    "height": "468px",
    "left": "1001px",
    "right": "20px",
    "top": "-22px",
    "width": "730px"
   },
   "types_to_exclude": [
    "module",
    "function",
    "builtin_function_or_method",
    "instance",
    "_Feature"
   ],
   "window_display": true
  }
 },
 "nbformat": 4,
 "nbformat_minor": 2
}
