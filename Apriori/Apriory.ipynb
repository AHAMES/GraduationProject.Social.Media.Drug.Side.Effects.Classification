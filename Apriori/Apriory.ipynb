{
 "cells": [
  {
   "cell_type": "code",
   "execution_count": 2,
   "metadata": {},
   "outputs": [],
   "source": [
    "import numpy as np  \n",
    "import matplotlib.pyplot as plt  \n",
    "import pandas as pd  \n",
    "from apyori import apriori  "
   ]
  },
  {
   "cell_type": "raw",
   "metadata": {},
   "source": []
  },
  {
   "cell_type": "code",
   "execution_count": null,
   "metadata": {
    "slideshow": {
     "slide_type": "-"
    }
   },
   "outputs": [],
   "source": []
  },
  {
   "cell_type": "code",
   "execution_count": 63,
   "metadata": {},
   "outputs": [],
   "source": [
    "#data = pd.read_excel('result.xlsx')\n",
    "data = pd.read_excel('askapatient.xlsx')\n",
    "from sklearn.impute import SimpleImputer\n",
    "#imp_mean = SimpleImputer(missing_values=np.nan, strategy='most_frequent')\n",
    "#data['Gender']=imp_mean.fit_transform(data['Gender'].values.reshape(-1, 1))\n",
    "#del data['DrugFamily']\n",
    "#data=vectorizeCount(data)"
   ]
  },
  {
   "cell_type": "code",
   "execution_count": 60,
   "metadata": {},
   "outputs": [
    {
     "data": {
      "text/plain": [
       "False"
      ]
     },
     "execution_count": 60,
     "metadata": {},
     "output_type": "execute_result"
    }
   ],
   "source": [
    "not ['Atrial Fibrillation ']"
   ]
  },
  {
   "cell_type": "code",
   "execution_count": 61,
   "metadata": {},
   "outputs": [
    {
     "data": {
      "text/html": [
       "<div>\n",
       "<style scoped>\n",
       "    .dataframe tbody tr th:only-of-type {\n",
       "        vertical-align: middle;\n",
       "    }\n",
       "\n",
       "    .dataframe tbody tr th {\n",
       "        vertical-align: top;\n",
       "    }\n",
       "\n",
       "    .dataframe thead th {\n",
       "        text-align: right;\n",
       "    }\n",
       "</style>\n",
       "<table border=\"1\" class=\"dataframe\">\n",
       "  <thead>\n",
       "    <tr style=\"text-align: right;\">\n",
       "      <th></th>\n",
       "      <th>Unnamed: 0</th>\n",
       "      <th>DrugFamily</th>\n",
       "      <th>Drug</th>\n",
       "      <th>Content</th>\n",
       "      <th>gender</th>\n",
       "      <th>age</th>\n",
       "      <th>Filtered</th>\n",
       "      <th>Stemmed</th>\n",
       "      <th>ADRCount</th>\n",
       "      <th>MentalCount</th>\n",
       "      <th>...</th>\n",
       "      <th>Obsessive-Compulsive Disorder</th>\n",
       "      <th>Orgasm incapacity</th>\n",
       "      <th>Mood swings</th>\n",
       "      <th>Hyperactive behavior</th>\n",
       "      <th>Somnolence</th>\n",
       "      <th>Apathy</th>\n",
       "      <th>Confusion</th>\n",
       "      <th>Nightmare</th>\n",
       "      <th>Mental blocking</th>\n",
       "      <th>Forgetting</th>\n",
       "    </tr>\n",
       "  </thead>\n",
       "  <tbody>\n",
       "    <tr>\n",
       "      <th>0</th>\n",
       "      <td>0</td>\n",
       "      <td>Angiotensin</td>\n",
       "      <td>Lisinopril</td>\n",
       "      <td>High BP None</td>\n",
       "      <td>Female</td>\n",
       "      <td>53</td>\n",
       "      <td>High BP None</td>\n",
       "      <td>high BP none</td>\n",
       "      <td>0</td>\n",
       "      <td>0</td>\n",
       "      <td>...</td>\n",
       "      <td>0</td>\n",
       "      <td>0</td>\n",
       "      <td>0</td>\n",
       "      <td>0</td>\n",
       "      <td>0</td>\n",
       "      <td>0</td>\n",
       "      <td>0</td>\n",
       "      <td>0</td>\n",
       "      <td>0</td>\n",
       "      <td>0</td>\n",
       "    </tr>\n",
       "    <tr>\n",
       "      <th>1</th>\n",
       "      <td>1</td>\n",
       "      <td>Angiotensin</td>\n",
       "      <td>Lisinopril</td>\n",
       "      <td>This is a dangerous drug. Was on about 14 day...</td>\n",
       "      <td>Female</td>\n",
       "      <td>68</td>\n",
       "      <td>This dangerous drug Was 14 days symptoms kept ...</td>\n",
       "      <td>thi danger drug wa 14 day symptom kept get wor...</td>\n",
       "      <td>4</td>\n",
       "      <td>0</td>\n",
       "      <td>...</td>\n",
       "      <td>0</td>\n",
       "      <td>0</td>\n",
       "      <td>0</td>\n",
       "      <td>0</td>\n",
       "      <td>0</td>\n",
       "      <td>0</td>\n",
       "      <td>0</td>\n",
       "      <td>0</td>\n",
       "      <td>0</td>\n",
       "      <td>0</td>\n",
       "    </tr>\n",
       "    <tr>\n",
       "      <th>2</th>\n",
       "      <td>2</td>\n",
       "      <td>Angiotensin</td>\n",
       "      <td>Lisinopril</td>\n",
       "      <td>I didn't realize how badly this drug was effe...</td>\n",
       "      <td>Female</td>\n",
       "      <td>72</td>\n",
       "      <td>I realize badly drug effecting I went Costco o...</td>\n",
       "      <td>I realiz badli drug effect I went costco one d...</td>\n",
       "      <td>0</td>\n",
       "      <td>0</td>\n",
       "      <td>...</td>\n",
       "      <td>0</td>\n",
       "      <td>0</td>\n",
       "      <td>0</td>\n",
       "      <td>0</td>\n",
       "      <td>0</td>\n",
       "      <td>0</td>\n",
       "      <td>0</td>\n",
       "      <td>0</td>\n",
       "      <td>0</td>\n",
       "      <td>0</td>\n",
       "    </tr>\n",
       "    <tr>\n",
       "      <th>3</th>\n",
       "      <td>3</td>\n",
       "      <td>Angiotensin</td>\n",
       "      <td>Lisinopril</td>\n",
       "      <td>High Blood Pressure Similar to those listed o...</td>\n",
       "      <td>Female</td>\n",
       "      <td>59</td>\n",
       "      <td>High Blood Pressure Similar listed site</td>\n",
       "      <td>high blood pressur similar list site</td>\n",
       "      <td>0</td>\n",
       "      <td>0</td>\n",
       "      <td>...</td>\n",
       "      <td>0</td>\n",
       "      <td>0</td>\n",
       "      <td>0</td>\n",
       "      <td>0</td>\n",
       "      <td>0</td>\n",
       "      <td>0</td>\n",
       "      <td>0</td>\n",
       "      <td>0</td>\n",
       "      <td>0</td>\n",
       "      <td>0</td>\n",
       "    </tr>\n",
       "    <tr>\n",
       "      <th>4</th>\n",
       "      <td>4</td>\n",
       "      <td>Angiotensin</td>\n",
       "      <td>Lisinopril</td>\n",
       "      <td>Even cutting the pill in half didn't reduce t...</td>\n",
       "      <td>Female</td>\n",
       "      <td>61</td>\n",
       "      <td>Even cutting pill half reduce side effects eno...</td>\n",
       "      <td>even cut pill half reduc side effect enough I ...</td>\n",
       "      <td>3</td>\n",
       "      <td>0</td>\n",
       "      <td>...</td>\n",
       "      <td>0</td>\n",
       "      <td>0</td>\n",
       "      <td>0</td>\n",
       "      <td>0</td>\n",
       "      <td>0</td>\n",
       "      <td>0</td>\n",
       "      <td>0</td>\n",
       "      <td>0</td>\n",
       "      <td>0</td>\n",
       "      <td>0</td>\n",
       "    </tr>\n",
       "  </tbody>\n",
       "</table>\n",
       "<p>5 rows × 160 columns</p>\n",
       "</div>"
      ],
      "text/plain": [
       "   Unnamed: 0   DrugFamily        Drug  \\\n",
       "0           0  Angiotensin  Lisinopril   \n",
       "1           1  Angiotensin  Lisinopril   \n",
       "2           2  Angiotensin  Lisinopril   \n",
       "3           3  Angiotensin  Lisinopril   \n",
       "4           4  Angiotensin  Lisinopril   \n",
       "\n",
       "                                             Content  gender  age  \\\n",
       "0                                       High BP None  Female   53   \n",
       "1   This is a dangerous drug. Was on about 14 day...  Female   68   \n",
       "2   I didn't realize how badly this drug was effe...  Female   72   \n",
       "3   High Blood Pressure Similar to those listed o...  Female   59   \n",
       "4   Even cutting the pill in half didn't reduce t...  Female   61   \n",
       "\n",
       "                                            Filtered  \\\n",
       "0                                       High BP None   \n",
       "1  This dangerous drug Was 14 days symptoms kept ...   \n",
       "2  I realize badly drug effecting I went Costco o...   \n",
       "3            High Blood Pressure Similar listed site   \n",
       "4  Even cutting pill half reduce side effects eno...   \n",
       "\n",
       "                                             Stemmed  ADRCount  MentalCount  \\\n",
       "0                                       high BP none         0            0   \n",
       "1  thi danger drug wa 14 day symptom kept get wor...         4            0   \n",
       "2  I realiz badli drug effect I went costco one d...         0            0   \n",
       "3               high blood pressur similar list site         0            0   \n",
       "4  even cut pill half reduc side effect enough I ...         3            0   \n",
       "\n",
       "   ...  Obsessive-Compulsive Disorder Orgasm incapacity Mood swings  \\\n",
       "0  ...                              0                 0           0   \n",
       "1  ...                              0                 0           0   \n",
       "2  ...                              0                 0           0   \n",
       "3  ...                              0                 0           0   \n",
       "4  ...                              0                 0           0   \n",
       "\n",
       "  Hyperactive behavior  Somnolence  Apathy  Confusion  Nightmare  \\\n",
       "0                    0           0       0          0          0   \n",
       "1                    0           0       0          0          0   \n",
       "2                    0           0       0          0          0   \n",
       "3                    0           0       0          0          0   \n",
       "4                    0           0       0          0          0   \n",
       "\n",
       "   Mental blocking  Forgetting  \n",
       "0                0           0  \n",
       "1                0           0  \n",
       "2                0           0  \n",
       "3                0           0  \n",
       "4                0           0  \n",
       "\n",
       "[5 rows x 160 columns]"
      ]
     },
     "execution_count": 61,
     "metadata": {},
     "output_type": "execute_result"
    }
   ],
   "source": [
    "data.head() "
   ]
  },
  {
   "cell_type": "code",
   "execution_count": 28,
   "metadata": {},
   "outputs": [
    {
     "data": {
      "text/plain": [
       "False"
      ]
     },
     "execution_count": 28,
     "metadata": {},
     "output_type": "execute_result"
    }
   ],
   "source": [
    "pd.isnull(data.iloc[1]['Gender'])"
   ]
  },
  {
   "cell_type": "code",
   "execution_count": 5,
   "metadata": {},
   "outputs": [
    {
     "data": {
      "text/plain": [
       "Index(['DrugFamily', 'Drug', 'Gender', 'ADRs', 'Mentals', 'Dieases'], dtype='object')"
      ]
     },
     "execution_count": 5,
     "metadata": {},
     "output_type": "execute_result"
    }
   ],
   "source": [
    "data.columns"
   ]
  },
  {
   "cell_type": "code",
   "execution_count": 73,
   "metadata": {},
   "outputs": [
    {
     "name": "stdout",
     "output_type": "stream",
     "text": [
      "['exercise induced', 'Snoring', 'Clouded consciousness', 'Somnolence', 'Mental Depression ', 'Confusion', 'Hypertensive disease ', 'MUNGAN SYNDROME ', 'Thyroiditis ', 'Diabetes', 'Hemorrhoids ', 'Calcium', 'Amlodipine', nan]\n"
     ]
    }
   ],
   "source": []
  },
  {
   "cell_type": "code",
   "execution_count": 64,
   "metadata": {},
   "outputs": [],
   "source": [
    "import ast\n",
    "records = []  \n",
    "for i in range(0,len(data)):\n",
    "    x = []\n",
    "    x=ast.literal_eval(data.iloc[i]['ADRs'])\n",
    "    x.extend(ast.literal_eval(data.iloc[i]['Mentals']))\n",
    "    x.extend(ast.literal_eval(data.iloc[i]['Dieases']))\n",
    "    x.append(data.iloc[i]['DrugFamily'])\n",
    "    x.append(data.iloc[i]['Drug'])\n",
    "    if not pd.isnull(data.iloc[i]['Gender']):\n",
    "        x.append(data.iloc[i]['Gender'])\n",
    "    records.append(x)"
   ]
  },
  {
   "cell_type": "code",
   "execution_count": 41,
   "metadata": {},
   "outputs": [
    {
     "data": {
      "text/plain": [
       "'nan'"
      ]
     },
     "execution_count": 41,
     "metadata": {},
     "output_type": "execute_result"
    }
   ],
   "source": [
    "str(np.nan)"
   ]
  },
  {
   "cell_type": "code",
   "execution_count": 42,
   "metadata": {},
   "outputs": [
    {
     "data": {
      "text/plain": [
       "'DrugFamily'"
      ]
     },
     "execution_count": 42,
     "metadata": {},
     "output_type": "execute_result"
    }
   ],
   "source": [
    "data.columns[0]"
   ]
  },
  {
   "cell_type": "code",
   "execution_count": 65,
   "metadata": {},
   "outputs": [],
   "source": [
    "association_rules = apriori(records,min_support=0.02,min_lift=1.5, min_confidence=0.4)  \n",
    "association_results = list(association_rules)  "
   ]
  },
  {
   "cell_type": "code",
   "execution_count": 66,
   "metadata": {
    "scrolled": true
   },
   "outputs": [
    {
     "name": "stdout",
     "output_type": "stream",
     "text": [
      "74\n"
     ]
    }
   ],
   "source": [
    "print(len(association_results))  "
   ]
  },
  {
   "cell_type": "markdown",
   "metadata": {},
   "source": [
    "### print(association_results[0])  "
   ]
  },
  {
   "cell_type": "code",
   "execution_count": 68,
   "metadata": {},
   "outputs": [],
   "source": [
    "count=1\n",
    "x=\"\"\n",
    "for item in association_results:\n",
    "    \n",
    "    # first index of the inner list\n",
    "    # Contains base item and add item\n",
    "    pair = item[0] \n",
    "    items = [x for x in pair]\n",
    "    \n",
    "    if len(list(item.ordered_statistics[0].items_base))==0 or str(item[2][0][2])=='1.0':\n",
    "        continue\n",
    "    x+=str(count)+\"\\n\"\n",
    "    count+=1\n",
    "    x+=(\"Rule: \" + str(list(item.ordered_statistics[0].items_base)) + \" -> \" + str(list(item.ordered_statistics[0].items_add)))+\"\\n\"\n",
    "    #second index of the inner list\n",
    "    x+=(\"Support: \" + str(item[1])+\"\\n\")\n",
    "\n",
    "    #third index of the list located at 0th\n",
    "    #of the third index of the inner list\n",
    "\n",
    "    x+=(\"Confidence: \" + str(item[2][0][2])+\"\\n\")\n",
    "    x+=(\"Lift: \" + str(item[2][0][3])+\"\\n\")\n",
    "    x+=(\"=====================================\")\n",
    "#f=open('result.txt','w')\n",
    "f=open('ask.txt','w')\n",
    "f.write(x)\n",
    "f.close()"
   ]
  },
  {
   "cell_type": "code",
   "execution_count": 54,
   "metadata": {},
   "outputs": [
    {
     "data": {
      "text/plain": [
       "1557"
      ]
     },
     "execution_count": 54,
     "metadata": {},
     "output_type": "execute_result"
    }
   ],
   "source": [
    "len(data)"
   ]
  },
  {
   "cell_type": "code",
   "execution_count": 31,
   "metadata": {},
   "outputs": [
    {
     "data": {
      "text/plain": [
       "155700.0"
      ]
     },
     "execution_count": 31,
     "metadata": {},
     "output_type": "execute_result"
    }
   ],
   "source": [
    "len(data)*(1/100.0))"
   ]
  },
  {
   "cell_type": "code",
   "execution_count": null,
   "metadata": {},
   "outputs": [],
   "source": []
  }
 ],
 "metadata": {
  "kernelspec": {
   "display_name": "Python 3",
   "language": "python",
   "name": "python3"
  },
  "language_info": {
   "codemirror_mode": {
    "name": "ipython",
    "version": 3
   },
   "file_extension": ".py",
   "mimetype": "text/x-python",
   "name": "python",
   "nbconvert_exporter": "python",
   "pygments_lexer": "ipython3",
   "version": "3.6.7"
  },
  "varInspector": {
   "cols": {
    "lenName": 16,
    "lenType": 16,
    "lenVar": 40
   },
   "kernels_config": {
    "python": {
     "delete_cmd_postfix": "",
     "delete_cmd_prefix": "del ",
     "library": "var_list.py",
     "varRefreshCmd": "print(var_dic_list())"
    },
    "r": {
     "delete_cmd_postfix": ") ",
     "delete_cmd_prefix": "rm(",
     "library": "var_list.r",
     "varRefreshCmd": "cat(var_dic_list()) "
    }
   },
   "position": {
    "height": "215px",
    "left": "647px",
    "right": "20px",
    "top": "0px",
    "width": "514px"
   },
   "types_to_exclude": [
    "module",
    "function",
    "builtin_function_or_method",
    "instance",
    "_Feature"
   ],
   "window_display": true
  }
 },
 "nbformat": 4,
 "nbformat_minor": 2
}
