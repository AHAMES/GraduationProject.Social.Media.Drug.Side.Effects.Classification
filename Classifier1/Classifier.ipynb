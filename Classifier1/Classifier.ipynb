{
 "cells": [
  {
   "cell_type": "markdown",
   "metadata": {},
   "source": [
    "### Imports necessary for running the program"
   ]
  },
  {
   "cell_type": "code",
   "execution_count": 1,
   "metadata": {},
   "outputs": [
    {
     "data": {
      "text/plain": [
       "'df = pd.read_excel(\"MLDataSet.xlsx\")\\ndf2 = pd.read_excel(\"ADRs.xlsx\")\\ndf3 = pd.read_excel(\"DS.xlsx\")\\ndf4 = pd.read_excel(\"Mental.xlsx\")\\n\\ndf5=[df, df2,  df3, df4]\\n\\nresult = pd.concat([df,df2,df3, df4], axis=1, join_axes=[df.index])'"
      ]
     },
     "execution_count": 1,
     "metadata": {},
     "output_type": "execute_result"
    }
   ],
   "source": [
    "# -*- coding: utf-8 -*-\n",
    "\"\"\"\n",
    "Created on Sun May  5 23:01:42 2019\n",
    "\n",
    "@author: Ahmed\n",
    "\"\"\"\n",
    "\n",
    "from sklearn.ensemble import RandomForestClassifier\n",
    "from sklearn.feature_selection import SelectFromModel\n",
    "from sklearn.metrics import accuracy_score\n",
    "from sklearn.preprocessing import LabelEncoder\n",
    "from sklearn.impute import SimpleImputer\n",
    "from sklearn.metrics import precision_recall_fscore_support\n",
    "import numpy as np\n",
    "import pandas as pd\n",
    "'''df = pd.read_excel(\"MLDataSet.xlsx\")\n",
    "df2 = pd.read_excel(\"ADRs.xlsx\")\n",
    "df3 = pd.read_excel(\"DS.xlsx\")\n",
    "df4 = pd.read_excel(\"Mental.xlsx\")\n",
    "\n",
    "df5=[df, df2,  df3, df4]\n",
    "\n",
    "result = pd.concat([df,df2,df3, df4], axis=1, join_axes=[df.index])'''\n",
    "#result.to_excel('result.xlsx')\n"
   ]
  },
  {
   "cell_type": "code",
   "execution_count": null,
   "metadata": {},
   "outputs": [],
   "source": []
  },
  {
   "cell_type": "code",
   "execution_count": 2,
   "metadata": {},
   "outputs": [],
   "source": [
    "def removeColumns(result):\n",
    "    del result['Pain']\n",
    "    del result['Content']\n",
    "    del result['Filtered']\n",
    "    del result['Stemmed']\n",
    "    del result['big1']\n",
    "    del result['big2']\n",
    "    del result['small1']\n",
    "    del result['small2']\n",
    "    del result['Height']\n",
    "    del result['Joined']\n",
    "    del result['Posted']\n",
    "    "
   ]
  },
  {
   "cell_type": "code",
   "execution_count": 3,
   "metadata": {},
   "outputs": [],
   "source": [
    "def vectorizeCount(result):\n",
    "    for i in range(len(result)):\n",
    "        if result[i]==0:\n",
    "            result[i]=0\n",
    "        if result[i]>0 and result[i]<=3:\n",
    "            result[i]=1\n",
    "        if result[i]>3:\n",
    "            result[i]=2\n",
    "    return result\n",
    "    '''if result.at[i,'MentalCount']==0:\n",
    "        result.at[i,'MentalCount']=0\n",
    "    if result.at[i,'MentalCount']>0 and result.at[i,'MentalCount']<=3:\n",
    "        result.at[i,'MentalCount']=1\n",
    "    if result.at[i,'MentalCount']>3:\n",
    "        result.at[i,'MentalCount']=2\n",
    "\n",
    "\n",
    "    if result.at[i,'DieaseCount']==0:\n",
    "        result.at[i,'DieaseCount']=0\n",
    "    if result.at[i,'DieaseCount']>0 and result.at[i,'DieaseCount']<=3:\n",
    "        result.at[i,'DieaseCount']=1\n",
    "    if result.at[i,'DieaseCount']>3:\n",
    "        result.at[i,'DieaseCount']=2'''"
   ]
  },
  {
   "cell_type": "code",
   "execution_count": null,
   "metadata": {},
   "outputs": [],
   "source": []
  },
  {
   "cell_type": "markdown",
   "metadata": {},
   "source": [
    "### manipulating data to prepare for classification"
   ]
  },
  {
   "cell_type": "code",
   "execution_count": 63,
   "metadata": {},
   "outputs": [],
   "source": [
    "def manipulate(result,labelfile,label):\n",
    "    imp_mean = SimpleImputer(missing_values=np.nan, strategy='most_frequent')\n",
    "    result['Gender']=imp_mean.fit_transform(result['Gender'].values.reshape(-1, 1))\n",
    "    for i in range(len(result)):\n",
    "        if result.at[i,'Gender']=='Male':\n",
    "            result.at[i,'Gender']=0\n",
    "        if result.at[i,'Gender']=='Female':\n",
    "            result.at[i,'Gender']=1\n",
    "    result['Drug']=LabelEncoder().fit_transform(result['Drug'])\n",
    "    if 'Unnamed: 0' in result:\n",
    "        del result['Unnamed: 0'] \n",
    "    result['DrugFamily']=LabelEncoder().fit_transform(result['DrugFamily'])\n",
    "    labels=labelfile.iloc[:][label]\n",
    "    \n",
    "    #removeColumns(result)\n",
    "    imp_mean = SimpleImputer(missing_values=np.nan, strategy='median')\n",
    "    result['Age']=imp_mean.fit_transform(result['Age'].values.reshape(-1, 1))\n",
    "    if 'Height' in result:\n",
    "        result['Height']=imp_mean.fit_transform(result['Height'].values.reshape(-1, 1))\n",
    "    return result,labels"
   ]
  },
  {
   "cell_type": "code",
   "execution_count": 68,
   "metadata": {},
   "outputs": [],
   "source": [
    "\n",
    "asklabel=pd.read_excel('asklabels.xlsx')\n",
    "labels=asklabel.iloc[:]['MICROCEPHALY , EPILEPSY , AND DIABETES SYNDROME']"
   ]
  },
  {
   "cell_type": "markdown",
   "metadata": {},
   "source": [
    "### Datasets"
   ]
  },
  {
   "cell_type": "code",
   "execution_count": 26,
   "metadata": {},
   "outputs": [],
   "source": [
    "label='Hypertensive disease '\n",
    "asklabel='Hypertensive disease '\n",
    "\n",
    "#from collections import Counter\n",
    "#X_res, y_res = sm.fit_resample(result, result_labels)\n",
    "#print(Counter(result_labels))\n",
    "#print(Counter(y_res))\n",
    "def prepareDataset(label,asklab):\n",
    "    from imblearn.over_sampling import SMOTENC\n",
    "    \n",
    "    sm = SMOTENC(random_state=42, categorical_features=[0, 1,3])\n",
    "    \n",
    "    result=pd.read_excel('result_reduced.xlsx')\n",
    "    weighted=pd.read_excel('Weighted_reduced.xlsx')\n",
    "    blood=pd.read_excel('blood_reduced.xlsx')\n",
    "    ask=pd.read_excel('askapatient_reduced.xlsx')\n",
    "\n",
    "    resultlabel=pd.read_excel('resultlabels.xlsx')\n",
    "    weightedlabel=pd.read_excel('Weightedlabels.xlsx')\n",
    "    bloodlabel=pd.read_excel('bloodlabels.xlsx')\n",
    "    asklabel=pd.read_excel('asklabels.xlsx')\n",
    "\n",
    "    result,result_labels=manipulate(result,resultlabel,label)\n",
    "    weighted,weighted_labels=manipulate(weighted,weightedlabel,label)\n",
    "    blood,blood_labels=manipulate(blood,bloodlabel,label)\n",
    "    ask,ask_labels=manipulate(ask,asklabel,asklab)\n",
    "    if 'Count' in label:\n",
    "        result_labels = vectorizeCount(result_labels)\n",
    "        weighted_labels = vectorizeCount(weighted_labels)\n",
    "        blood_labels=vectorizeCount(blood_labels)\n",
    "    if 'Count' in asklab:\n",
    "        ask_labels = vectorizeCount(ask_labels)\n",
    "    del result['weights2']\n",
    "    del result['Height']\n",
    "    \n",
    "    \n",
    "    #Applying SMOTENC\n",
    "    result,result_labels=sm.fit_resample(result,result_labels)\n",
    "    weighted,weighted_labels=sm.fit_resample(weighted,weighted_labels)\n",
    "    blood,blood_labels=sm.fit_resample(blood,blood_labels)\n",
    "    ask,ask_labels=sm.fit_resample(ask,ask_labels)\n",
    "    return result,result_labels,weighted,weighted_labels,blood,blood_labels,ask,ask_labels\n"
   ]
  },
  {
   "cell_type": "code",
   "execution_count": 6,
   "metadata": {},
   "outputs": [
    {
     "data": {
      "text/plain": [
       "\"for i in weighted:\\n    if i not in result:\\n        if i != 'weights2':\\n            del weighted[i]\\nweighted.to_excel('Weighted.xlsx')\""
      ]
     },
     "execution_count": 6,
     "metadata": {},
     "output_type": "execute_result"
    }
   ],
   "source": [
    "'''for i in weighted:\n",
    "    if i not in result:\n",
    "        if i != 'weights2':\n",
    "            del weighted[i]\n",
    "weighted.to_excel('Weighted.xlsx')'''"
   ]
  },
  {
   "cell_type": "code",
   "execution_count": 7,
   "metadata": {},
   "outputs": [],
   "source": [
    "#ask_labels"
   ]
  },
  {
   "cell_type": "code",
   "execution_count": 8,
   "metadata": {
    "scrolled": false
   },
   "outputs": [
    {
     "data": {
      "text/plain": [
       "'for i in weighted:\\n    print (weighted[i])'"
      ]
     },
     "execution_count": 8,
     "metadata": {},
     "output_type": "execute_result"
    }
   ],
   "source": [
    "'''for i in weighted:\n",
    "    print (weighted[i])'''"
   ]
  },
  {
   "cell_type": "code",
   "execution_count": 9,
   "metadata": {},
   "outputs": [],
   "source": [
    "def get_score(model, X_train,X_test,Y_train,Y_test):\n",
    "    model.fit(X_train,Y_train)\n",
    "    return model.score(X_test,Y_test)"
   ]
  },
  {
   "cell_type": "markdown",
   "metadata": {},
   "source": [
    "### 10-Fold Cross validation"
   ]
  },
  {
   "cell_type": "code",
   "execution_count": 10,
   "metadata": {},
   "outputs": [],
   "source": [
    "from sklearn.ensemble import RandomForestClassifier\n",
    "from sklearn.model_selection import cross_val_score\n",
    "#cross_val_score(RandomForestClassifier(n_estimators=1000),result,result_labels,cv=10)"
   ]
  },
  {
   "cell_type": "code",
   "execution_count": null,
   "metadata": {},
   "outputs": [],
   "source": []
  },
  {
   "cell_type": "code",
   "execution_count": 11,
   "metadata": {},
   "outputs": [],
   "source": [
    "#This was used for some other no longer existing purposes\n",
    "def getMissingPercentage(feature):\n",
    "    #nancount = int(result[result[feature].isnull()][feature].shape[0])\n",
    "    nancount = int(result[result[feature]==1][feature].shape[0])\n",
    "    size=int(result.shape[0])\n",
    "    print (nancount)\n",
    "    print ((nancount*100)/size)\n",
    "#getMissingPercentage('Pvc')"
   ]
  },
  {
   "cell_type": "code",
   "execution_count": null,
   "metadata": {},
   "outputs": [],
   "source": []
  },
  {
   "cell_type": "code",
   "execution_count": 12,
   "metadata": {},
   "outputs": [
    {
     "data": {
      "text/plain": [
       "'from sklearn.model_selection import KFold\\nfrom sklearn.ensemble import RandomForestClassifier\\nkf = KFold(n_splits=10)\\n\\nscores_rf=[]\\n\\nfor train_index, test_index in kf.split(result):\\n    X_train, X_test, Y_train, Y_test = result.iloc[train_index], result.iloc[test_index], result_labels.iloc[train_index],result_labels.iloc[test_index]\\n    scores_rf.append(get_score(RandomForestClassifier(n_estimators=400),X_train, X_test, Y_train, Y_test))'"
      ]
     },
     "execution_count": 12,
     "metadata": {},
     "output_type": "execute_result"
    }
   ],
   "source": [
    "'''from sklearn.model_selection import KFold\n",
    "from sklearn.ensemble import RandomForestClassifier\n",
    "kf = KFold(n_splits=10)\n",
    "\n",
    "scores_rf=[]\n",
    "\n",
    "for train_index, test_index in kf.split(result):\n",
    "    X_train, X_test, Y_train, Y_test = result.iloc[train_index], result.iloc[test_index], result_labels.iloc[train_index],result_labels.iloc[test_index]\n",
    "    scores_rf.append(get_score(RandomForestClassifier(n_estimators=400),X_train, X_test, Y_train, Y_test))'''"
   ]
  },
  {
   "cell_type": "markdown",
   "metadata": {},
   "source": [
    "### Random Forest Classifier Function "
   ]
  },
  {
   "cell_type": "code",
   "execution_count": 41,
   "metadata": {},
   "outputs": [],
   "source": [
    "def randomForest(result,result_labels,estimators,DataSet):\n",
    "    from sklearn.model_selection import KFold\n",
    "    from sklearn.ensemble import RandomForestClassifier\n",
    "    from sklearn.metrics import accuracy_score\n",
    "    from sklearn.model_selection import train_test_split\n",
    "    from sklearn.metrics import classification_report\n",
    "    from sklearn.metrics import f1_score\n",
    "    from collections import Counter\n",
    "    \n",
    "    X_train, X_test, Y_train, Y_test = train_test_split(result, result_labels, test_size=0.30, random_state=42)\n",
    "    print(Counter(result_labels))\n",
    "    clf = RandomForestClassifier(n_estimators=estimators, max_depth=2,random_state=0)\n",
    "    clf.fit(X_train, Y_train)\n",
    "    pred=clf.predict(X_test)\n",
    "    accuracy=(accuracy_score(Y_test, pred))\n",
    "    #print (accuracy)\n",
    "    scores_rf=(precision_recall_fscore_support(Y_test,pred, average='macro'))\n",
    "    #print(DataSet)\n",
    "    #print (pred)\n",
    "    #print(classification_report(Y_test,pred,labels=[0,1,2]))\n",
    "        \n",
    "    return accuracy,scores_rf"
   ]
  },
  {
   "cell_type": "markdown",
   "metadata": {},
   "source": [
    "### Random Forest"
   ]
  },
  {
   "cell_type": "code",
   "execution_count": 70,
   "metadata": {
    "scrolled": true
   },
   "outputs": [
    {
     "name": "stdout",
     "output_type": "stream",
     "text": [
      "100\n",
      "Counter({0: 1223, 1: 1223})\n",
      "Counter({0: 98, 1: 98})\n",
      "Counter({0: 348, 1: 348})\n",
      "Counter({0: 652, 1: 652})\n",
      "Res: Accuracy: 0.5490463215258855 # Scores: (0.5520980261150017, 0.5469019188498783, 0.5364490617517148, None)\n",
      "Wei: Accuracy: 0.559322033898305 # Scores: (0.5616359447004609, 0.5619212962962963, 0.5591954022988506, None)\n",
      "Bld: Accuracy: 0.6794258373205742 # Scores: (0.6808726067746687, 0.6799780179520059, 0.679161415969756, None)\n",
      "Ask: Accuracy: 0.6836734693877551 # Scores: (0.6856654841676522, 0.6839255499153976, 0.6830050867353594, None)\n",
      "200\n",
      "Counter({0: 1223, 1: 1223})\n",
      "Counter({0: 98, 1: 98})\n",
      "Counter({0: 348, 1: 348})\n",
      "Counter({0: 652, 1: 652})\n",
      "Res: Accuracy: 0.5599455040871935 # Scores: (0.5616141593475041, 0.5583971959840789, 0.5533791102696695, None)\n",
      "Wei: Accuracy: 0.559322033898305 # Scores: (0.5616359447004609, 0.5619212962962963, 0.5591954022988506, None)\n",
      "Bld: Accuracy: 0.6889952153110048 # Scores: (0.6912280701754385, 0.6896867558160835, 0.6885388724579866, None)\n",
      "Ask: Accuracy: 0.6785714285714286 # Scores: (0.6823838458885026, 0.6789275022777561, 0.6771511491097341, None)\n",
      "300\n",
      "Counter({0: 1223, 1: 1223})\n",
      "Counter({0: 98, 1: 98})\n",
      "Counter({0: 348, 1: 348})\n",
      "Counter({0: 652, 1: 652})\n",
      "Res: Accuracy: 0.5626702997275205 # Scores: (0.5672341689144045, 0.5605284263054714, 0.5504536218196389, None)\n",
      "Wei: Accuracy: 0.559322033898305 # Scores: (0.5616359447004609, 0.5619212962962963, 0.5591954022988506, None)\n",
      "Bld: Accuracy: 0.6746411483253588 # Scores: (0.6757676043390329, 0.675123649019967, 0.6744548286604362, None)\n",
      "Ask: Accuracy: 0.6785714285714286 # Scores: (0.6823838458885026, 0.6789275022777561, 0.6771511491097341, None)\n",
      "400\n",
      "Counter({0: 1223, 1: 1223})\n",
      "Counter({0: 98, 1: 98})\n",
      "Counter({0: 348, 1: 348})\n",
      "Counter({0: 652, 1: 652})\n",
      "Res: Accuracy: 0.5613079019073569 # Scores: (0.5654117454068242, 0.5592214697320739, 0.5496692274861289, None)\n",
      "Wei: Accuracy: 0.559322033898305 # Scores: (0.5616359447004609, 0.5619212962962963, 0.5591954022988506, None)\n",
      "Bld: Accuracy: 0.6794258373205742 # Scores: (0.6808726067746687, 0.6799780179520059, 0.679161415969756, None)\n",
      "Ask: Accuracy: 0.6785714285714286 # Scores: (0.6823838458885026, 0.6789275022777561, 0.6771511491097341, None)\n",
      "500\n",
      "Counter({0: 1223, 1: 1223})\n",
      "Counter({0: 98, 1: 98})\n",
      "Counter({0: 348, 1: 348})\n",
      "Counter({0: 652, 1: 652})\n",
      "Res: Accuracy: 0.5708446866485014 # Scores: (0.574135471376312, 0.5690756252599062, 0.5625620796322048, None)\n",
      "Wei: Accuracy: 0.559322033898305 # Scores: (0.5616359447004609, 0.5619212962962963, 0.5591954022988506, None)\n",
      "Bld: Accuracy: 0.6842105263157895 # Scores: (0.6860250737463127, 0.6848323868840447, 0.6838558855885589, None)\n",
      "Ask: Accuracy: 0.6785714285714286 # Scores: (0.6823838458885026, 0.6789275022777561, 0.6771511491097341, None)\n",
      "600\n",
      "Counter({0: 1223, 1: 1223})\n",
      "Counter({0: 98, 1: 98})\n",
      "Counter({0: 348, 1: 348})\n",
      "Counter({0: 652, 1: 652})\n",
      "Res: Accuracy: 0.5667574931880109 # Scores: (0.5694938114884164, 0.5650433671953901, 0.5588942307692308, None)\n",
      "Wei: Accuracy: 0.559322033898305 # Scores: (0.5616359447004609, 0.5619212962962963, 0.5591954022988506, None)\n",
      "Bld: Accuracy: 0.6842105263157895 # Scores: (0.6860250737463127, 0.6848323868840447, 0.6838558855885589, None)\n",
      "Ask: Accuracy: 0.6785714285714286 # Scores: (0.6823838458885026, 0.6789275022777561, 0.6771511491097341, None)\n",
      "700\n",
      "Counter({0: 1223, 1: 1223})\n",
      "Counter({0: 98, 1: 98})\n",
      "Counter({0: 348, 1: 348})\n",
      "Counter({0: 652, 1: 652})\n",
      "Res: Accuracy: 0.5626702997275205 # Scores: (0.5655234440580406, 0.5608625913384424, 0.5538855659503887, None)\n",
      "Wei: Accuracy: 0.559322033898305 # Scores: (0.5616359447004609, 0.5619212962962963, 0.5591954022988506, None)\n",
      "Bld: Accuracy: 0.6842105263157895 # Scores: (0.6860250737463127, 0.6848323868840447, 0.6838558855885589, None)\n",
      "Ask: Accuracy: 0.6785714285714286 # Scores: (0.6823838458885026, 0.6789275022777561, 0.6771511491097341, None)\n",
      "800\n",
      "Counter({0: 1223, 1: 1223})\n",
      "Counter({0: 98, 1: 98})\n",
      "Counter({0: 348, 1: 348})\n",
      "Counter({0: 652, 1: 652})\n",
      "Res: Accuracy: 0.5640326975476839 # Scores: (0.5664277577368522, 0.5623551951523792, 0.5564452166030894, None)\n",
      "Wei: Accuracy: 0.559322033898305 # Scores: (0.5616359447004609, 0.5619212962962963, 0.5591954022988506, None)\n",
      "Bld: Accuracy: 0.6794258373205742 # Scores: (0.6808726067746687, 0.6799780179520059, 0.679161415969756, None)\n",
      "Ask: Accuracy: 0.6785714285714286 # Scores: (0.6823838458885026, 0.6789275022777561, 0.6771511491097341, None)\n",
      "900\n",
      "Counter({0: 1223, 1: 1223})\n",
      "Counter({0: 98, 1: 98})\n",
      "Counter({0: 348, 1: 348})\n",
      "Counter({0: 652, 1: 652})\n",
      "Res: Accuracy: 0.5653950953678474 # Scores: (0.5682856072621201, 0.5636250222776689, 0.5570073123894391, None)\n",
      "Wei: Accuracy: 0.559322033898305 # Scores: (0.5616359447004609, 0.5619212962962963, 0.5591954022988506, None)\n",
      "Bld: Accuracy: 0.6842105263157895 # Scores: (0.6860250737463127, 0.6848323868840447, 0.6838558855885589, None)\n",
      "Ask: Accuracy: 0.6785714285714286 # Scores: (0.6823838458885026, 0.6789275022777561, 0.6771511491097341, None)\n",
      "1000\n",
      "Counter({0: 1223, 1: 1223})\n",
      "Counter({0: 98, 1: 98})\n",
      "Counter({0: 348, 1: 348})\n",
      "Counter({0: 652, 1: 652})\n",
      "Res: Accuracy: 0.5653950953678474 # Scores: (0.5682856072621201, 0.5636250222776689, 0.5570073123894391, None)\n",
      "Wei: Accuracy: 0.559322033898305 # Scores: (0.5616359447004609, 0.5619212962962963, 0.5591954022988506, None)\n",
      "Bld: Accuracy: 0.6842105263157895 # Scores: (0.6860250737463127, 0.6848323868840447, 0.6838558855885589, None)\n",
      "Ask: Accuracy: 0.6785714285714286 # Scores: (0.6823838458885026, 0.6789275022777561, 0.6771511491097341, None)\n",
      "1100\n",
      "Counter({0: 1223, 1: 1223})\n",
      "Counter({0: 98, 1: 98})\n",
      "Counter({0: 348, 1: 348})\n",
      "Counter({0: 652, 1: 652})\n",
      "Res: Accuracy: 0.5640326975476839 # Scores: (0.5672514619883041, 0.5621695479118398, 0.5547467394601152, None)\n",
      "Wei: Accuracy: 0.559322033898305 # Scores: (0.5616359447004609, 0.5619212962962963, 0.5591954022988506, None)\n",
      "Bld: Accuracy: 0.6889952153110048 # Scores: (0.6912280701754385, 0.6896867558160835, 0.6885388724579866, None)\n",
      "Ask: Accuracy: 0.6785714285714286 # Scores: (0.6823838458885026, 0.6789275022777561, 0.6771511491097341, None)\n",
      "1200\n",
      "Counter({0: 1223, 1: 1223})\n",
      "Counter({0: 98, 1: 98})\n",
      "Counter({0: 348, 1: 348})\n",
      "Counter({0: 652, 1: 652})\n",
      "Res: Accuracy: 0.553133514986376 # Scores: (0.5567272727272727, 0.5509713063625022, 0.5404373587441207, None)\n",
      "Wei: Accuracy: 0.559322033898305 # Scores: (0.5616359447004609, 0.5619212962962963, 0.5591954022988506, None)\n",
      "Bld: Accuracy: 0.6889952153110048 # Scores: (0.6912280701754385, 0.6896867558160835, 0.6885388724579866, None)\n",
      "Ask: Accuracy: 0.6785714285714286 # Scores: (0.6823838458885026, 0.6789275022777561, 0.6771511491097341, None)\n",
      "1300\n",
      "Counter({0: 1223, 1: 1223})\n",
      "Counter({0: 98, 1: 98})\n",
      "Counter({0: 348, 1: 348})\n",
      "Counter({0: 652, 1: 652})\n",
      "Res: Accuracy: 0.553133514986376 # Scores: (0.5567272727272727, 0.5509713063625022, 0.5404373587441207, None)\n",
      "Wei: Accuracy: 0.559322033898305 # Scores: (0.5616359447004609, 0.5619212962962963, 0.5591954022988506, None)\n",
      "Bld: Accuracy: 0.6842105263157895 # Scores: (0.6860250737463127, 0.6848323868840447, 0.6838558855885589, None)\n",
      "Ask: Accuracy: 0.6785714285714286 # Scores: (0.6823838458885026, 0.6789275022777561, 0.6771511491097341, None)\n",
      "1400\n",
      "Counter({0: 1223, 1: 1223})\n",
      "Counter({0: 98, 1: 98})\n",
      "Counter({0: 348, 1: 348})\n",
      "Counter({0: 652, 1: 652})\n",
      "Res: Accuracy: 0.553133514986376 # Scores: (0.5567272727272727, 0.5509713063625022, 0.5404373587441207, None)\n",
      "Wei: Accuracy: 0.559322033898305 # Scores: (0.5616359447004609, 0.5619212962962963, 0.5591954022988506, None)\n",
      "Bld: Accuracy: 0.6889952153110048 # Scores: (0.6912280701754385, 0.6896867558160835, 0.6885388724579866, None)\n",
      "Ask: Accuracy: 0.6785714285714286 # Scores: (0.6823838458885026, 0.6789275022777561, 0.6771511491097341, None)\n",
      "1500\n",
      "Counter({0: 1223, 1: 1223})\n",
      "Counter({0: 98, 1: 98})\n",
      "Counter({0: 348, 1: 348})\n",
      "Counter({0: 652, 1: 652})\n",
      "Res: Accuracy: 0.553133514986376 # Scores: (0.5567272727272727, 0.5509713063625022, 0.5404373587441207, None)\n",
      "Wei: Accuracy: 0.559322033898305 # Scores: (0.5616359447004609, 0.5619212962962963, 0.5591954022988506, None)\n",
      "Bld: Accuracy: 0.6889952153110048 # Scores: (0.6912280701754385, 0.6896867558160835, 0.6885388724579866, None)\n",
      "Ask: Accuracy: 0.6785714285714286 # Scores: (0.6823838458885026, 0.6789275022777561, 0.6771511491097341, None)\n",
      "1600\n"
     ]
    },
    {
     "name": "stdout",
     "output_type": "stream",
     "text": [
      "Counter({0: 1223, 1: 1223})\n",
      "Counter({0: 98, 1: 98})\n",
      "Counter({0: 348, 1: 348})\n",
      "Counter({0: 652, 1: 652})\n",
      "Res: Accuracy: 0.553133514986376 # Scores: (0.5567272727272727, 0.5509713063625022, 0.5404373587441207, None)\n",
      "Wei: Accuracy: 0.559322033898305 # Scores: (0.5616359447004609, 0.5619212962962963, 0.5591954022988506, None)\n",
      "Bld: Accuracy: 0.6842105263157895 # Scores: (0.6860250737463127, 0.6848323868840447, 0.6838558855885589, None)\n",
      "Ask: Accuracy: 0.6785714285714286 # Scores: (0.6823838458885026, 0.6789275022777561, 0.6771511491097341, None)\n",
      "1700\n",
      "Counter({0: 1223, 1: 1223})\n",
      "Counter({0: 98, 1: 98})\n",
      "Counter({0: 348, 1: 348})\n",
      "Counter({0: 652, 1: 652})\n",
      "Res: Accuracy: 0.5572207084468664 # Scores: (0.5609895392504088, 0.555114952771342, 0.5452682545582783, None)\n",
      "Wei: Accuracy: 0.559322033898305 # Scores: (0.5616359447004609, 0.5619212962962963, 0.5591954022988506, None)\n",
      "Bld: Accuracy: 0.6842105263157895 # Scores: (0.6860250737463127, 0.6848323868840447, 0.6838558855885589, None)\n",
      "Ask: Accuracy: 0.6785714285714286 # Scores: (0.6823838458885026, 0.6789275022777561, 0.6771511491097341, None)\n",
      "1800\n",
      "Counter({0: 1223, 1: 1223})\n",
      "Counter({0: 98, 1: 98})\n",
      "Counter({0: 348, 1: 348})\n",
      "Counter({0: 652, 1: 652})\n",
      "Res: Accuracy: 0.5572207084468664 # Scores: (0.5609895392504088, 0.555114952771342, 0.5452682545582783, None)\n",
      "Wei: Accuracy: 0.559322033898305 # Scores: (0.5616359447004609, 0.5619212962962963, 0.5591954022988506, None)\n",
      "Bld: Accuracy: 0.6842105263157895 # Scores: (0.6860250737463127, 0.6848323868840447, 0.6838558855885589, None)\n",
      "Ask: Accuracy: 0.6785714285714286 # Scores: (0.6823838458885026, 0.6789275022777561, 0.6771511491097341, None)\n",
      "1900\n",
      "Counter({0: 1223, 1: 1223})\n",
      "Counter({0: 98, 1: 98})\n",
      "Counter({0: 348, 1: 348})\n",
      "Counter({0: 652, 1: 652})\n",
      "Res: Accuracy: 0.5572207084468664 # Scores: (0.5609895392504088, 0.555114952771342, 0.5452682545582783, None)\n",
      "Wei: Accuracy: 0.559322033898305 # Scores: (0.5616359447004609, 0.5619212962962963, 0.5591954022988506, None)\n",
      "Bld: Accuracy: 0.6842105263157895 # Scores: (0.6860250737463127, 0.6848323868840447, 0.6838558855885589, None)\n",
      "Ask: Accuracy: 0.6785714285714286 # Scores: (0.6823838458885026, 0.6789275022777561, 0.6771511491097341, None)\n"
     ]
    }
   ],
   "source": [
    "label='MICROCEPHALY , EPILEPSY , AND DIABETES SYNDROME '\n",
    "asklabel='MICROCEPHALY , EPILEPSY , AND DIABETES SYNDROME'\n",
    "res_Stats = pd.DataFrame(columns = ['Estimators' , 'Accuracy', 'Precision' , 'Recall','FScore'])\n",
    "wei_Stats = pd.DataFrame(columns = ['Estimators' , 'Accuracy', 'Precision' , 'Recall','FScore'])\n",
    "bld_Stats = pd.DataFrame(columns = ['Estimators' , 'Accuracy', 'Precision' , 'Recall','FScore'])\n",
    "ask_Stats = pd.DataFrame(columns = ['Estimators' , 'Accuracy', 'Precision' , 'Recall','FScore'])\n",
    "for estimators in range (100,2000,100):\n",
    "    print (estimators)\n",
    "    result,result_labels,weighted,weighted_labels,blood,blood_labels,ask,ask_labels=prepareDataset(label,asklabel)\n",
    "    res_acc,res_scores=randomForest(result,result_labels,estimators,\"Result\")\n",
    "    wei_acc,wei_scores=randomForest(weighted,weighted_labels,estimators,\"Weighted\")\n",
    "    blood_acc,blood_scores=randomForest(blood,blood_labels,estimators,\"Blood\")\n",
    "    ask_acc,ask_scores=randomForest(ask,ask_labels,estimators,\"Ask\")\n",
    "    print(\"Res: Accuracy: \" + str(res_acc)+\" # \"+ \"Scores: \"+str(res_scores))\n",
    "    print(\"Wei: Accuracy: \" + str(wei_acc)+\" # \"+ \"Scores: \"+str(wei_scores))\n",
    "    print(\"Bld: Accuracy: \" + str(blood_acc)+\" # \"+ \"Scores: \"+str(blood_scores))\n",
    "    print(\"Ask: Accuracy: \" + str(ask_acc)+\" # \"+ \"Scores: \"+str(ask_scores))\n",
    "    res_Stats=res_Stats.append({'Estimators':estimators,'Accuracy':res_acc,'Precision':res_scores[0],'Recall':res_scores[1],'FScore':res_scores[2]},ignore_index=True)\n",
    "    wei_Stats=wei_Stats.append({'Estimators':estimators,'Accuracy':wei_acc,'Precision':wei_scores[0],'Recall':wei_scores[1],'FScore':wei_scores[2]},ignore_index=True)\n",
    "    bld_Stats=bld_Stats.append({'Estimators':estimators,'Accuracy':blood_acc,'Precision':blood_scores[0],'Recall':blood_scores[1],'FScore':blood_scores[2]},ignore_index=True)\n",
    "    ask_Stats=ask_Stats.append({'Estimators':estimators,'Accuracy':ask_acc,'Precision':ask_scores[0],'Recall':ask_scores[1],'FScore':ask_scores[2]},ignore_index=True)\n",
    "res_Stats.to_excel('Forrestresult_Stats'+label+'.xlsx') \n",
    "wei_Stats.to_excel('Forrestweight_Stats'+label+'.xlsx') \n",
    "bld_Stats.to_excel('Forrestblood_Stats'+label+'.xlsx') \n",
    "ask_Stats.to_excel('Forrestask_Stats'+asklabel+'.xlsx') "
   ]
  },
  {
   "cell_type": "markdown",
   "metadata": {},
   "source": [
    "### Random Forest Classifier Function 10-Fold"
   ]
  },
  {
   "cell_type": "code",
   "execution_count": 15,
   "metadata": {},
   "outputs": [],
   "source": [
    "def average(scores):\n",
    "    FScore=0\n",
    "    Recall=0\n",
    "    Precision=0\n",
    "\n",
    "    for i in scores:\n",
    "        Precision+=i[0]\n",
    "        Recall+=i[1]\n",
    "        FScore+=i[2]\n",
    "    return (Precision/10,Recall/10,FScore/10)"
   ]
  },
  {
   "cell_type": "code",
   "execution_count": 22,
   "metadata": {},
   "outputs": [],
   "source": [
    "def randomForest10Fold(result,result_labels,estimators,DataSet):\n",
    "    from sklearn.model_selection import KFold\n",
    "    from sklearn.ensemble import RandomForestClassifier\n",
    "    from sklearn.metrics import accuracy_score\n",
    "    from sklearn.metrics import classification_report\n",
    "    from sklearn.metrics import f1_score\n",
    "    from collections import Counter\n",
    "    kf = KFold(n_splits=10)\n",
    "\n",
    "    accuracy=[]\n",
    "\n",
    "    scores_rf=[]\n",
    "    print(Counter(result_labels))\n",
    "    count = 1\n",
    "    for train_index, test_index in kf.split(result):\n",
    "        X_train, X_test, Y_train, Y_test = result[train_index], result[test_index], result_labels[train_index],result_labels[test_index]\n",
    "        clf = RandomForestClassifier(n_estimators=estimators, max_depth=2,random_state=0)\n",
    "        clf.fit(X_train, Y_train)\n",
    "        pred=clf.predict(X_test)\n",
    "        accuracy.append(accuracy_score(Y_test, pred))\n",
    "        scores_rf.append(precision_recall_fscore_support(Y_test,pred, average='micro'))\n",
    "        \n",
    "        #print(str(count)+DataSet)\n",
    "        #print(f1_score(Y_test, pred, average='micro'))\n",
    "        count+=1\n",
    "        #print (pred)\n",
    "        #print(classification_report(Y_test,pred,labels=[0,1]))\n",
    "    accuracy = np.mean(accuracy,axis=0)   \n",
    "    return accuracy,average(scores_rf)"
   ]
  },
  {
   "cell_type": "markdown",
   "metadata": {},
   "source": [
    "### Random Forest with 10-Fold Cross Validation"
   ]
  },
  {
   "cell_type": "code",
   "execution_count": 69,
   "metadata": {},
   "outputs": [
    {
     "name": "stdout",
     "output_type": "stream",
     "text": [
      "Counter({0: 1223, 1: 1223})\n",
      "Counter({0: 98, 1: 98})\n",
      "Counter({0: 348, 1: 348})\n",
      "Counter({0: 652, 1: 652})\n",
      "Res: Accuracy: 0.26493308798929405 # Scores: (0.2649330879892941, 0.2649330879892941, 0.2649330879892941)\n",
      "Wei: Accuracy: 0.6478947368421053 # Scores: (0.6478947368421053, 0.6478947368421053, 0.6478947368421053)\n",
      "Bld: Accuracy: 0.4171635610766045 # Scores: (0.4171635610766045, 0.4171635610766045, 0.4171635610766045)\n",
      "Ask: Accuracy: 0.6257604227833236 # Scores: (0.6257604227833237, 0.6257604227833237, 0.6257604227833237)\n",
      "Counter({0: 1223, 1: 1223})\n",
      "Counter({0: 98, 1: 98})\n",
      "Counter({0: 348, 1: 348})\n",
      "Counter({0: 652, 1: 652})\n",
      "Res: Accuracy: 0.27681331549013044 # Scores: (0.27681331549013044, 0.27681331549013044, 0.27681331549013044)\n",
      "Wei: Accuracy: 0.6428947368421052 # Scores: (0.6428947368421052, 0.6428947368421052, 0.6428947368421053)\n",
      "Bld: Accuracy: 0.4143478260869565 # Scores: (0.4143478260869565, 0.4143478260869565, 0.4143478260869565)\n",
      "Ask: Accuracy: 0.6257604227833236 # Scores: (0.6257604227833237, 0.6257604227833237, 0.6257604227833237)\n",
      "Counter({0: 1223, 1: 1223})\n",
      "Counter({0: 98, 1: 98})\n",
      "Counter({0: 348, 1: 348})\n",
      "Counter({0: 652, 1: 652})\n",
      "Res: Accuracy: 0.2837888926062228 # Scores: (0.2837888926062228, 0.2837888926062228, 0.28378889260622286)\n",
      "Wei: Accuracy: 0.6534210526315789 # Scores: (0.6534210526315789, 0.6534210526315789, 0.653421052631579)\n",
      "Bld: Accuracy: 0.418592132505176 # Scores: (0.4185921325051759, 0.4185921325051759, 0.4185921325051759)\n",
      "Ask: Accuracy: 0.6257604227833236 # Scores: (0.6257604227833237, 0.6257604227833237, 0.6257604227833237)\n",
      "Counter({0: 1223, 1: 1223})\n",
      "Counter({0: 98, 1: 98})\n",
      "Counter({0: 348, 1: 348})\n",
      "Counter({0: 652, 1: 652})\n",
      "Res: Accuracy: 0.28091334894613584 # Scores: (0.28091334894613584, 0.28091334894613584, 0.28091334894613584)\n",
      "Wei: Accuracy: 0.6536842105263159 # Scores: (0.6536842105263158, 0.6536842105263158, 0.6536842105263159)\n",
      "Bld: Accuracy: 0.4200621118012422 # Scores: (0.4200621118012422, 0.4200621118012422, 0.4200621118012422)\n",
      "Ask: Accuracy: 0.6257604227833236 # Scores: (0.6257604227833237, 0.6257604227833237, 0.6257604227833237)\n",
      "Counter({0: 1223, 1: 1223})\n",
      "Counter({0: 98, 1: 98})\n",
      "Counter({0: 348, 1: 348})\n",
      "Counter({0: 652, 1: 652})\n",
      "Res: Accuracy: 0.28378554700568753 # Scores: (0.28378554700568753, 0.28378554700568753, 0.28378554700568753)\n",
      "Wei: Accuracy: 0.6536842105263159 # Scores: (0.6536842105263158, 0.6536842105263158, 0.6536842105263159)\n",
      "Bld: Accuracy: 0.4228985507246376 # Scores: (0.4228985507246376, 0.4228985507246376, 0.4228985507246376)\n",
      "Ask: Accuracy: 0.6257604227833236 # Scores: (0.6257604227833237, 0.6257604227833237, 0.6257604227833237)\n",
      "Counter({0: 1223, 1: 1223})\n",
      "Counter({0: 98, 1: 98})\n",
      "Counter({0: 348, 1: 348})\n",
      "Counter({0: 652, 1: 652})\n",
      "Res: Accuracy: 0.28378554700568753 # Scores: (0.28378554700568753, 0.28378554700568753, 0.28378554700568753)\n",
      "Wei: Accuracy: 0.6536842105263159 # Scores: (0.6536842105263158, 0.6536842105263158, 0.6536842105263159)\n",
      "Bld: Accuracy: 0.4200414078674948 # Scores: (0.4200414078674948, 0.4200414078674948, 0.4200414078674948)\n",
      "Ask: Accuracy: 0.6257604227833236 # Scores: (0.6257604227833237, 0.6257604227833237, 0.6257604227833237)\n",
      "Counter({0: 1223, 1: 1223})\n",
      "Counter({0: 98, 1: 98})\n",
      "Counter({0: 348, 1: 348})\n",
      "Counter({0: 652, 1: 652})\n",
      "Res: Accuracy: 0.28419036467045833 # Scores: (0.28419036467045833, 0.28419036467045833, 0.28419036467045833)\n",
      "Wei: Accuracy: 0.6536842105263159 # Scores: (0.6536842105263158, 0.6536842105263158, 0.6536842105263159)\n",
      "Bld: Accuracy: 0.41571428571428565 # Scores: (0.41571428571428565, 0.41571428571428565, 0.41571428571428565)\n",
      "Ask: Accuracy: 0.6257604227833236 # Scores: (0.6257604227833237, 0.6257604227833237, 0.6257604227833237)\n",
      "Counter({0: 1223, 1: 1223})\n",
      "Counter({0: 98, 1: 98})\n",
      "Counter({0: 348, 1: 348})\n",
      "Counter({0: 652, 1: 652})\n",
      "Res: Accuracy: 0.27927735028437606 # Scores: (0.27927735028437606, 0.27927735028437606, 0.27927735028437606)\n",
      "Wei: Accuracy: 0.6536842105263159 # Scores: (0.6536842105263158, 0.6536842105263158, 0.6536842105263159)\n",
      "Bld: Accuracy: 0.4185714285714286 # Scores: (0.4185714285714285, 0.4185714285714285, 0.4185714285714285)\n",
      "Ask: Accuracy: 0.6257604227833236 # Scores: (0.6257604227833237, 0.6257604227833237, 0.6257604227833237)\n",
      "Counter({0: 1223, 1: 1223})\n",
      "Counter({0: 98, 1: 98})\n",
      "Counter({0: 348, 1: 348})\n",
      "Counter({0: 652, 1: 652})\n",
      "Res: Accuracy: 0.2821462027433924 # Scores: (0.2821462027433924, 0.2821462027433924, 0.2821462027433924)\n",
      "Wei: Accuracy: 0.6589473684210526 # Scores: (0.6589473684210525, 0.6589473684210525, 0.6589473684210526)\n",
      "Bld: Accuracy: 0.4171428571428571 # Scores: (0.4171428571428571, 0.4171428571428571, 0.4171428571428571)\n",
      "Ask: Accuracy: 0.6257604227833236 # Scores: (0.6257604227833237, 0.6257604227833237, 0.6257604227833237)\n",
      "Counter({0: 1223, 1: 1223})\n",
      "Counter({0: 98, 1: 98})\n",
      "Counter({0: 348, 1: 348})\n",
      "Counter({0: 652, 1: 652})\n",
      "Res: Accuracy: 0.27926898628303787 # Scores: (0.2792689862830378, 0.2792689862830378, 0.27926898628303787)\n",
      "Wei: Accuracy: 0.6589473684210526 # Scores: (0.6589473684210525, 0.6589473684210525, 0.6589473684210526)\n",
      "Bld: Accuracy: 0.42002070393374746 # Scores: (0.42002070393374735, 0.42002070393374735, 0.42002070393374735)\n",
      "Ask: Accuracy: 0.6257604227833236 # Scores: (0.6257604227833237, 0.6257604227833237, 0.6257604227833237)\n",
      "Counter({0: 1223, 1: 1223})\n",
      "Counter({0: 98, 1: 98})\n",
      "Counter({0: 348, 1: 348})\n",
      "Counter({0: 652, 1: 652})\n",
      "Res: Accuracy: 0.2768166610906658 # Scores: (0.27681666109066577, 0.27681666109066577, 0.2768166610906658)\n",
      "Wei: Accuracy: 0.6589473684210526 # Scores: (0.6589473684210525, 0.6589473684210525, 0.6589473684210526)\n",
      "Bld: Accuracy: 0.4200414078674948 # Scores: (0.4200414078674948, 0.4200414078674948, 0.4200414078674948)\n",
      "Ask: Accuracy: 0.6257604227833236 # Scores: (0.6257604227833237, 0.6257604227833237, 0.6257604227833237)\n",
      "Counter({0: 1223, 1: 1223})\n",
      "Counter({0: 98, 1: 98})\n",
      "Counter({0: 348, 1: 348})\n",
      "Counter({0: 652, 1: 652})\n",
      "Res: Accuracy: 0.27763633322181336 # Scores: (0.2776363332218133, 0.2776363332218133, 0.27763633322181336)\n",
      "Wei: Accuracy: 0.6589473684210526 # Scores: (0.6589473684210525, 0.6589473684210525, 0.6589473684210526)\n",
      "Bld: Accuracy: 0.4185714285714286 # Scores: (0.4185714285714285, 0.4185714285714285, 0.4185714285714285)\n",
      "Ask: Accuracy: 0.6257604227833236 # Scores: (0.6257604227833237, 0.6257604227833237, 0.6257604227833237)\n",
      "Counter({0: 1223, 1: 1223})\n",
      "Counter({0: 98, 1: 98})\n",
      "Counter({0: 348, 1: 348})\n",
      "Counter({0: 652, 1: 652})\n",
      "Res: Accuracy: 0.2735396453663433 # Scores: (0.2735396453663433, 0.2735396453663433, 0.2735396453663433)\n",
      "Wei: Accuracy: 0.6589473684210526 # Scores: (0.6589473684210525, 0.6589473684210525, 0.6589473684210526)\n",
      "Bld: Accuracy: 0.41714285714285715 # Scores: (0.4171428571428571, 0.4171428571428571, 0.4171428571428571)\n",
      "Ask: Accuracy: 0.6257604227833236 # Scores: (0.6257604227833237, 0.6257604227833237, 0.6257604227833237)\n",
      "Counter({0: 1223, 1: 1223})\n",
      "Counter({0: 98, 1: 98})\n",
      "Counter({0: 348, 1: 348})\n",
      "Counter({0: 652, 1: 652})\n",
      "Res: Accuracy: 0.2743576446972232 # Scores: (0.2743576446972231, 0.2743576446972231, 0.2743576446972232)\n",
      "Wei: Accuracy: 0.6589473684210526 # Scores: (0.6589473684210525, 0.6589473684210525, 0.6589473684210526)\n",
      "Bld: Accuracy: 0.42002070393374746 # Scores: (0.42002070393374735, 0.42002070393374735, 0.42002070393374735)\n",
      "Ask: Accuracy: 0.6257604227833236 # Scores: (0.6257604227833237, 0.6257604227833237, 0.6257604227833237)\n",
      "Counter({0: 1223, 1: 1223})\n",
      "Counter({0: 98, 1: 98})\n",
      "Counter({0: 348, 1: 348})\n",
      "Counter({0: 652, 1: 652})\n",
      "Res: Accuracy: 0.277638006022081 # Scores: (0.277638006022081, 0.277638006022081, 0.277638006022081)\n",
      "Wei: Accuracy: 0.6589473684210526 # Scores: (0.6589473684210525, 0.6589473684210525, 0.6589473684210526)\n",
      "Bld: Accuracy: 0.4214699792960662 # Scores: (0.4214699792960662, 0.4214699792960662, 0.4214699792960662)\n",
      "Ask: Accuracy: 0.6257604227833236 # Scores: (0.6257604227833237, 0.6257604227833237, 0.6257604227833237)\n",
      "Counter({0: 1223, 1: 1223})\n",
      "Counter({0: 98, 1: 98})\n",
      "Counter({0: 348, 1: 348})\n",
      "Counter({0: 652, 1: 652})\n",
      "Res: Accuracy: 0.277638006022081 # Scores: (0.277638006022081, 0.277638006022081, 0.277638006022081)\n",
      "Wei: Accuracy: 0.6589473684210526 # Scores: (0.6589473684210525, 0.6589473684210525, 0.6589473684210526)\n",
      "Bld: Accuracy: 0.4214699792960662 # Scores: (0.4214699792960662, 0.4214699792960662, 0.4214699792960662)\n",
      "Ask: Accuracy: 0.6257604227833236 # Scores: (0.6257604227833237, 0.6257604227833237, 0.6257604227833237)\n"
     ]
    },
    {
     "name": "stdout",
     "output_type": "stream",
     "text": [
      "Counter({0: 1223, 1: 1223})\n",
      "Counter({0: 98, 1: 98})\n",
      "Counter({0: 348, 1: 348})\n",
      "Counter({0: 652, 1: 652})\n",
      "Res: Accuracy: 0.277638006022081 # Scores: (0.277638006022081, 0.277638006022081, 0.277638006022081)\n",
      "Wei: Accuracy: 0.6589473684210526 # Scores: (0.6589473684210525, 0.6589473684210525, 0.6589473684210526)\n",
      "Bld: Accuracy: 0.4214699792960662 # Scores: (0.4214699792960662, 0.4214699792960662, 0.4214699792960662)\n",
      "Ask: Accuracy: 0.6257604227833236 # Scores: (0.6257604227833237, 0.6257604227833237, 0.6257604227833237)\n",
      "Counter({0: 1223, 1: 1223})\n",
      "Counter({0: 98, 1: 98})\n",
      "Counter({0: 348, 1: 348})\n",
      "Counter({0: 652, 1: 652})\n",
      "Res: Accuracy: 0.2780461692873871 # Scores: (0.2780461692873871, 0.2780461692873871, 0.2780461692873871)\n",
      "Wei: Accuracy: 0.6589473684210526 # Scores: (0.6589473684210525, 0.6589473684210525, 0.6589473684210526)\n",
      "Bld: Accuracy: 0.4214699792960662 # Scores: (0.4214699792960662, 0.4214699792960662, 0.4214699792960662)\n",
      "Ask: Accuracy: 0.6257604227833236 # Scores: (0.6257604227833237, 0.6257604227833237, 0.6257604227833237)\n",
      "Counter({0: 1223, 1: 1223})\n",
      "Counter({0: 98, 1: 98})\n",
      "Counter({0: 348, 1: 348})\n",
      "Counter({0: 652, 1: 652})\n",
      "Res: Accuracy: 0.2743576446972232 # Scores: (0.2743576446972232, 0.2743576446972232, 0.2743576446972232)\n",
      "Wei: Accuracy: 0.6589473684210526 # Scores: (0.6589473684210525, 0.6589473684210525, 0.6589473684210526)\n",
      "Bld: Accuracy: 0.4214699792960662 # Scores: (0.4214699792960662, 0.4214699792960662, 0.4214699792960662)\n",
      "Ask: Accuracy: 0.6257604227833236 # Scores: (0.6257604227833237, 0.6257604227833237, 0.6257604227833237)\n"
     ]
    }
   ],
   "source": [
    "label='MICROCEPHALY , EPILEPSY , AND DIABETES SYNDROME '\n",
    "asklabel='MICROCEPHALY , EPILEPSY , AND DIABETES SYNDROME'\n",
    "\n",
    "res_Stats = pd.DataFrame(columns = ['Estimators' , 'Accuracy', 'Precision' , 'Recall','FScore'])\n",
    "wei_Stats = pd.DataFrame(columns = ['Estimators' , 'Accuracy', 'Precision' , 'Recall','FScore'])\n",
    "bld_Stats = pd.DataFrame(columns = ['Estimators' , 'Accuracy', 'Precision' , 'Recall','FScore'])\n",
    "ask_Stats = pd.DataFrame(columns = ['Estimators' , 'Accuracy', 'Precision' , 'Recall','FScore'])\n",
    "for estimators in range (100,2000,100):\n",
    "    result,result_labels,weighted,weighted_labels,blood,blood_labels,ask,ask_labels=prepareDataset(label,asklabel)\n",
    "    res_acc,res_scores=randomForest10Fold(result,result_labels,estimators,\"Result\")\n",
    "    wei_acc,wei_scores=randomForest10Fold(weighted,weighted_labels,estimators,\"Weighted\")\n",
    "    blood_acc,blood_scores=randomForest10Fold(blood,blood_labels,estimators,\"Blood\")\n",
    "    ask_acc,ask_scores=randomForest10Fold(ask,ask_labels,1000,\"Ask\")\n",
    "    print(\"Res: Accuracy: \" + str(res_acc)+\" # \"+ \"Scores: \"+str(res_scores))\n",
    "    print(\"Wei: Accuracy: \" + str(wei_acc)+\" # \"+ \"Scores: \"+str(wei_scores))\n",
    "    print(\"Bld: Accuracy: \" + str(blood_acc)+\" # \"+ \"Scores: \"+str(blood_scores))\n",
    "    print(\"Ask: Accuracy: \" + str(ask_acc)+\" # \"+ \"Scores: \"+str(ask_scores))\n",
    "    res_Stats=res_Stats.append({'Estimators':estimators,'Accuracy':res_acc,'Precision':res_scores[0],'Recall':res_scores[1],'FScore':res_scores[2]},ignore_index=True)\n",
    "    wei_Stats=wei_Stats.append({'Estimators':estimators,'Accuracy':wei_acc,'Precision':wei_scores[0],'Recall':wei_scores[1],'FScore':wei_scores[2]},ignore_index=True)\n",
    "    bld_Stats=bld_Stats.append({'Estimators':estimators,'Accuracy':blood_acc,'Precision':blood_scores[0],'Recall':blood_scores[1],'FScore':blood_scores[2]},ignore_index=True)\n",
    "    ask_Stats=ask_Stats.append({'Estimators':estimators,'Accuracy':ask_acc,'Precision':ask_scores[0],'Recall':ask_scores[1],'FScore':ask_scores[2]},ignore_index=True)\n",
    "res_Stats.to_excel('ForrestFoldresult_Stats'+label+'.xlsx') \n",
    "wei_Stats.to_excel('ForrestFoldweight_Stats'+label+'.xlsx') \n",
    "bld_Stats.to_excel('ForrestFoldblood_Stats'+label+'.xlsx') \n",
    "ask_Stats.to_excel('ForrestFoldask_Stats'+asklabel+'.xlsx') \n"
   ]
  },
  {
   "cell_type": "code",
   "execution_count": null,
   "metadata": {},
   "outputs": [],
   "source": [
    "#ask_scores[9]"
   ]
  },
  {
   "cell_type": "code",
   "execution_count": null,
   "metadata": {},
   "outputs": [],
   "source": [
    "#result"
   ]
  },
  {
   "cell_type": "code",
   "execution_count": null,
   "metadata": {},
   "outputs": [],
   "source": [
    "'''from collections import Counter\n",
    "from imblearn.over_sampling import SMOTENC\n",
    "sm = SMOTENC(random_state=42, categorical_features=[0, 1,3])\n",
    "X_res, y_res = sm.fit_resample(result, result_labels)\n",
    "print(Counter(result_labels))\n",
    "print(Counter(y_res))\n",
    "print(X_res)\n",
    "print(y_res)\n",
    "print(result_labels)'''"
   ]
  },
  {
   "cell_type": "code",
   "execution_count": null,
   "metadata": {},
   "outputs": [],
   "source": [
    "average(wei_scores)"
   ]
  },
  {
   "cell_type": "code",
   "execution_count": null,
   "metadata": {},
   "outputs": [],
   "source": [
    "print(result_labels.value_counts())\n",
    "print(weighted_labels.value_counts())\n",
    "print(blood_labels.value_counts())\n",
    "print(ask_labels.value_counts())"
   ]
  },
  {
   "cell_type": "code",
   "execution_count": null,
   "metadata": {},
   "outputs": [],
   "source": [
    "print(result_labels.value_counts())\n",
    "print(weighted_labels.value_counts())\n",
    "print(blood_labels.value_counts())\n",
    "print(ask_labels.value_counts())"
   ]
  },
  {
   "cell_type": "code",
   "execution_count": null,
   "metadata": {},
   "outputs": [],
   "source": [
    "res_scores[0]"
   ]
  },
  {
   "cell_type": "code",
   "execution_count": null,
   "metadata": {},
   "outputs": [],
   "source": []
  },
  {
   "cell_type": "code",
   "execution_count": null,
   "metadata": {},
   "outputs": [],
   "source": [
    "wei_acc\n"
   ]
  },
  {
   "cell_type": "code",
   "execution_count": null,
   "metadata": {},
   "outputs": [],
   "source": [
    "ask_acc"
   ]
  },
  {
   "cell_type": "code",
   "execution_count": null,
   "metadata": {},
   "outputs": [],
   "source": [
    "res_scores"
   ]
  },
  {
   "cell_type": "code",
   "execution_count": null,
   "metadata": {},
   "outputs": [],
   "source": [
    "wei_scores"
   ]
  },
  {
   "cell_type": "code",
   "execution_count": null,
   "metadata": {},
   "outputs": [],
   "source": [
    "ask_scores"
   ]
  },
  {
   "cell_type": "code",
   "execution_count": null,
   "metadata": {},
   "outputs": [],
   "source": []
  },
  {
   "cell_type": "code",
   "execution_count": null,
   "metadata": {},
   "outputs": [],
   "source": []
  }
 ],
 "metadata": {
  "kernelspec": {
   "display_name": "Python 3",
   "language": "python",
   "name": "python3"
  },
  "language_info": {
   "codemirror_mode": {
    "name": "ipython",
    "version": 3
   },
   "file_extension": ".py",
   "mimetype": "text/x-python",
   "name": "python",
   "nbconvert_exporter": "python",
   "pygments_lexer": "ipython3",
   "version": "3.6.7"
  },
  "varInspector": {
   "cols": {
    "lenName": 16,
    "lenType": 16,
    "lenVar": 40
   },
   "kernels_config": {
    "python": {
     "delete_cmd_postfix": "",
     "delete_cmd_prefix": "del ",
     "library": "var_list.py",
     "varRefreshCmd": "print(var_dic_list())"
    },
    "r": {
     "delete_cmd_postfix": ") ",
     "delete_cmd_prefix": "rm(",
     "library": "var_list.r",
     "varRefreshCmd": "cat(var_dic_list()) "
    }
   },
   "oldHeight": 357,
   "position": {
    "height": "309px",
    "left": "1244px",
    "right": "20px",
    "top": "72px",
    "width": "649px"
   },
   "types_to_exclude": [
    "module",
    "function",
    "builtin_function_or_method",
    "instance",
    "_Feature"
   ],
   "varInspector_section_display": "block",
   "window_display": true
  }
 },
 "nbformat": 4,
 "nbformat_minor": 2
}
