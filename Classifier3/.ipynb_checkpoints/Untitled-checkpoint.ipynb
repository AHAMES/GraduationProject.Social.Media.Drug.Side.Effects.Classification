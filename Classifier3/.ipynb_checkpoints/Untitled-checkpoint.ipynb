{
 "cells": [
  {
   "cell_type": "code",
   "execution_count": null,
   "metadata": {},
   "outputs": [],
   "source": [
    "# -*- coding: utf-8 -*-\n",
    "\"\"\"\n",
    "Created on Wed Feb  6 18:30:54 2019\n",
    "\n",
    "@author: Ahmed\n",
    "\"\"\"\n",
    "\n",
    "import nltk\n",
    "import string\n",
    "import pandas\n",
    "from nltk.corpus import stopwords\n",
    "from nltk.tokenize import word_tokenize \n",
    "\n",
    "posts= pandas.read_csv('posts.csv')\n",
    "\n",
    "for i in range(0,len(posts)-1):\n",
    "    \n",
    "    stop_words =  set(stopwords.words('english'))\n",
    "\n",
    "    word_tokens = word_tokenize(posts.iloc[i]['Content']) \n",
    "    filtered_sentence = [] \n",
    "    for w in word_tokens: \n",
    "        if w not in stop_words: \n",
    "            filtered_sentence.append(w) \n",
    "        \n",
    "        tokens=' '.join(map(str,word_tokens))\n",
    "        filtered=' '.join(map(str,filtered_sentence)) \n",
    "        filtered=filtered.translate(None, string.punctuation)\n",
    "        posts.at[i , 'Content'] = filtered\n",
    "posts.to_csv('modifiedPosts.csv')"
   ]
  }
 ],
 "metadata": {
  "kernelspec": {
   "display_name": "Python 2",
   "language": "python",
   "name": "python2"
  },
  "language_info": {
   "codemirror_mode": {
    "name": "ipython",
    "version": 2
   },
   "file_extension": ".py",
   "mimetype": "text/x-python",
   "name": "python",
   "nbconvert_exporter": "python",
   "pygments_lexer": "ipython2",
   "version": "2.7.15"
  }
 },
 "nbformat": 4,
 "nbformat_minor": 2
}
