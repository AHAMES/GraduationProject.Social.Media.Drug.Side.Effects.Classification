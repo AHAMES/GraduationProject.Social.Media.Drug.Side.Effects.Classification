{
 "cells": [
  {
   "cell_type": "code",
   "execution_count": 1,
   "metadata": {},
   "outputs": [],
   "source": [
    "import pandas as pd"
   ]
  },
  {
   "cell_type": "code",
   "execution_count": 26,
   "metadata": {},
   "outputs": [
    {
     "name": "stdout",
     "output_type": "stream",
     "text": [
      "12951\n",
      "8\n",
      "Counter({'Male': 581, 'Female': 553, nan: 422, 'g': 1})\n",
      "107.0\n",
      "12.0\n",
      "515\n"
     ]
    }
   ],
   "source": [
    "from collections import Counter\n",
    "x=pd.read_excel('result.xlsx')\n",
    "\n",
    "max=0\n",
    "for i in x['Content']:\n",
    "    if(len(i)>=max):\n",
    "        max=len(i)\n",
    "\n",
    "print(max)\n",
    "\n",
    "min=max\n",
    "for i in x['Content']:\n",
    "    if(len(i)<=min):\n",
    "        min=len(i)\n",
    "\n",
    "print(min)\n",
    "\n",
    "print(Counter(x['Gender']))\n",
    "\n",
    "max=0\n",
    "for i in x['Age']:\n",
    "    if(i>=max):\n",
    "        max=i\n",
    "\n",
    "print(max)\n",
    "\n",
    "min=max\n",
    "for i in x['Age']:\n",
    "    if(i<=min):\n",
    "        min=i\n",
    "\n",
    "print(min)\n",
    "\n",
    "count=0\n",
    "for i in x['Age']:\n",
    "    if(not pd.notnull(i)):\n",
    "        count+=1\n",
    "print(count)"
   ]
  },
  {
   "cell_type": "code",
   "execution_count": null,
   "metadata": {},
   "outputs": [],
   "source": []
  },
  {
   "cell_type": "code",
   "execution_count": 32,
   "metadata": {},
   "outputs": [
    {
     "name": "stdout",
     "output_type": "stream",
     "text": [
      "7868\n",
      "254\n",
      "Counter({'Male': 71, 'Female': 41, nan: 18})\n",
      "79.0\n",
      "15.0\n",
      "10\n",
      "172\n",
      "27\n"
     ]
    }
   ],
   "source": [
    "x=pd.read_excel('Weighteds.xlsx')\n",
    "from collections import Counter\n",
    "max=0\n",
    "for i in x['Content']:\n",
    "    if(len(i)>=max):\n",
    "        max=len(i)\n",
    "\n",
    "print(max)\n",
    "\n",
    "min=max\n",
    "for i in x['Content']:\n",
    "    if(len(i)<=min):\n",
    "        min=len(i)\n",
    "\n",
    "print(min)\n",
    "print(Counter(x['Gender']))\n",
    "\n",
    "max=0\n",
    "for i in x['Age']:\n",
    "    if(i>=max):\n",
    "        max=i\n",
    "\n",
    "print(max)\n",
    "\n",
    "min=max\n",
    "for i in x['Age']:\n",
    "    if(i<=min):\n",
    "        min=i\n",
    "\n",
    "print(min)\n",
    "\n",
    "count=0\n",
    "for i in x['Age']:\n",
    "    if(not pd.notnull(i)):\n",
    "        count+=1\n",
    "print(count)\n",
    "\n",
    "max=0\n",
    "for i in x['weights2']:\n",
    "    if(i>=max):\n",
    "        max=i\n",
    "\n",
    "print(max)\n",
    "\n",
    "min=max\n",
    "for i in x['weights2']:\n",
    "    if(i<=min):\n",
    "        min=i\n",
    "\n",
    "print(min)"
   ]
  },
  {
   "cell_type": "code",
   "execution_count": 44,
   "metadata": {},
   "outputs": [
    {
     "name": "stdout",
     "output_type": "stream",
     "text": [
      "6829\n",
      "174\n",
      "Counter({'Male': 198, 'Female': 167, nan: 96})\n",
      "80.0\n",
      "12.0\n",
      "104\n",
      "295/135\n",
      "102/60\n"
     ]
    }
   ],
   "source": [
    "x=pd.read_excel('blood.xlsx')\n",
    "from collections import Counter\n",
    "max=0\n",
    "for i in x['Content']:\n",
    "    if(len(i)>=max):\n",
    "        max=len(i)\n",
    "\n",
    "print(max)\n",
    "\n",
    "min=max\n",
    "for i in x['Content']:\n",
    "    if(len(i)<=min):\n",
    "        min=len(i)\n",
    "\n",
    "print(min)\n",
    "print(Counter(x['Gender']))\n",
    "max=0\n",
    "for i in x['Age']:\n",
    "    if(i>=max):\n",
    "        max=i\n",
    "\n",
    "print(max)\n",
    "\n",
    "min=max\n",
    "for i in x['Age']:\n",
    "    if(i<=min):\n",
    "        min=i\n",
    "\n",
    "print(min)\n",
    "\n",
    "count=0\n",
    "for i in x['Age']:\n",
    "    if(not pd.notnull(i)):\n",
    "        count+=1\n",
    "print(count)\n",
    "\n",
    "max1=0\n",
    "j=0\n",
    "for i in range(len(x['big1'])):\n",
    "    if(x.iloc[i]['big1']>=max1):\n",
    "        j=i\n",
    "        max1=x.iloc[i]['big1']\n",
    "print(str(x.iloc[j]['big1'])+\"/\"+str(x.iloc[j]['small1']))\n",
    "\n",
    "\n",
    "j=0\n",
    "for i in range(len(x['big1'])):\n",
    "    if(x.iloc[i]['big1']<=max1):\n",
    "        j=i\n",
    "        max1=max1=x.iloc[i]['big1']\n",
    "print(str(x.iloc[j]['big1'])+\"/\"+str(x.iloc[j]['small1']))"
   ]
  },
  {
   "cell_type": "code",
   "execution_count": 29,
   "metadata": {},
   "outputs": [
    {
     "name": "stdout",
     "output_type": "stream",
     "text": [
      "1939\n",
      "3\n",
      "Counter({'Female': 423, 'Male': 333})\n",
      "91\n",
      "15\n",
      "0\n"
     ]
    }
   ],
   "source": [
    "x=pd.read_excel('askapatient.xlsx')\n",
    "from collections import Counter\n",
    "max=0\n",
    "for i in x['Content']:\n",
    "    if(len(i)>=max):\n",
    "        max=len(i)\n",
    "\n",
    "print(max)\n",
    "\n",
    "min=max\n",
    "for i in x['Content']:\n",
    "    if(len(i)<=min):\n",
    "        min=len(i)\n",
    "\n",
    "print(min)\n",
    "print(Counter(x['gender']))\n",
    "max=0\n",
    "for i in x['age']:\n",
    "    if(i>=max):\n",
    "        max=i\n",
    "\n",
    "print(max)\n",
    "\n",
    "min=max\n",
    "for i in x['age']:\n",
    "    if(i<=min):\n",
    "        min=i\n",
    "\n",
    "print(min)\n",
    "\n",
    "count=0\n",
    "for i in x['age']:\n",
    "    if(not pd.notnull(i)):\n",
    "        count+=1\n",
    "print(count)"
   ]
  },
  {
   "cell_type": "code",
   "execution_count": null,
   "metadata": {},
   "outputs": [],
   "source": []
  }
 ],
 "metadata": {
  "kernelspec": {
   "display_name": "Python 3",
   "language": "python",
   "name": "python3"
  },
  "language_info": {
   "codemirror_mode": {
    "name": "ipython",
    "version": 3
   },
   "file_extension": ".py",
   "mimetype": "text/x-python",
   "name": "python",
   "nbconvert_exporter": "python",
   "pygments_lexer": "ipython3",
   "version": "3.6.7"
  },
  "varInspector": {
   "cols": {
    "lenName": 16,
    "lenType": 16,
    "lenVar": 40
   },
   "kernels_config": {
    "python": {
     "delete_cmd_postfix": "",
     "delete_cmd_prefix": "del ",
     "library": "var_list.py",
     "varRefreshCmd": "print(var_dic_list())"
    },
    "r": {
     "delete_cmd_postfix": ") ",
     "delete_cmd_prefix": "rm(",
     "library": "var_list.r",
     "varRefreshCmd": "cat(var_dic_list()) "
    }
   },
   "position": {
    "height": "283px",
    "left": "1182px",
    "right": "20px",
    "top": "323px",
    "width": "539px"
   },
   "types_to_exclude": [
    "module",
    "function",
    "builtin_function_or_method",
    "instance",
    "_Feature"
   ],
   "window_display": true
  }
 },
 "nbformat": 4,
 "nbformat_minor": 2
}
